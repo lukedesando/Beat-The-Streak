{
 "cells": [
  {
   "cell_type": "code",
   "execution_count": null,
   "metadata": {},
   "outputs": [],
   "source": [
    "import mariadb\n",
    "import pandas as pd"
   ]
  },
  {
   "cell_type": "code",
   "execution_count": null,
   "metadata": {},
   "outputs": [],
   "source": [
    "try:\n",
    "    connection = mariadb.connect(\n",
    "        host='',\n",
    "        user='',\n",
    "        password='',\n",
    "        database='GameLogs'\n",
    "    )\n",
    "except:\n",
    "    pass"
   ]
  },
  {
   "cell_type": "code",
   "execution_count": null,
   "metadata": {},
   "outputs": [],
   "source": [
    "cur = connection.cursor()\n",
    "\n"
   ]
  },
  {
   "cell_type": "code",
   "execution_count": 21,
   "metadata": {},
   "outputs": [
    {
     "name": "stdout",
     "output_type": "stream",
     "text": [
      "       PlayerName   game_date  H  AB  PA  Rk  GameYear\n",
      "0    Carson Kelly  2018-05-06  0   1   1   1      2018\n",
      "1    Carson Kelly  2018-05-07  0   2   3   2      2018\n",
      "2    Carson Kelly  2018-05-08  0   1   1   3      2018\n",
      "3    Carson Kelly  2018-05-10  0   3   3   4      2018\n",
      "4    Carson Kelly  2018-05-11  0   5   5   5      2018\n",
      "..            ...         ... ..  ..  ..  ..       ...\n",
      "262  Carson Kelly  2021-09-28  0   2   2  94      2021\n",
      "263  Carson Kelly  2021-09-29  1   3   3  95      2021\n",
      "264  Carson Kelly  2021-09-30  2   5   5  96      2021\n",
      "265  Carson Kelly  2021-10-01  0   1   1  97      2021\n",
      "266  Carson Kelly  2021-10-02  3   5   5  98      2021\n",
      "\n",
      "[267 rows x 7 columns]\n"
     ]
    }
   ],
   "source": [
    "columns = ['PlayerName', 'game_date', 'H', 'AB', 'PA', 'Rk', 'GameYear']\n",
    "cur.execute('SELECT PlayerName, game_date, H, AB, PA, Rk, GameYear FROM DatabaseBatterGamelogs where PlayerName=\"Carson Kelly\"')\n",
    "batter_logs = pd.DataFrame(cur.fetchall(), columns=columns) \n",
    "print(batter_logs)\n",
    "# cur.fetchall()"
   ]
  },
  {
   "cell_type": "markdown",
   "metadata": {},
   "source": [
    "Rk\n",
    "BA_prime = batting average for n -> last game\n",
    "BA = today's batting average"
   ]
  },
  {
   "cell_type": "code",
   "execution_count": 41,
   "metadata": {},
   "outputs": [],
   "source": [
    "def getBA(data):\n",
    "    h = data['H'].sum()\n",
    "    ab =data['AB'].sum()\n",
    "    print(h, ab)\n",
    "    return h/ab"
   ]
  },
  {
   "cell_type": "code",
   "execution_count": 37,
   "metadata": {},
   "outputs": [
    {
     "data": {
      "text/html": [
       "<div>\n",
       "<style scoped>\n",
       "    .dataframe tbody tr th:only-of-type {\n",
       "        vertical-align: middle;\n",
       "    }\n",
       "\n",
       "    .dataframe tbody tr th {\n",
       "        vertical-align: top;\n",
       "    }\n",
       "\n",
       "    .dataframe thead th {\n",
       "        text-align: right;\n",
       "    }\n",
       "</style>\n",
       "<table border=\"1\" class=\"dataframe\">\n",
       "  <thead>\n",
       "    <tr style=\"text-align: right;\">\n",
       "      <th></th>\n",
       "      <th>PlayerName</th>\n",
       "      <th>game_date</th>\n",
       "      <th>H</th>\n",
       "      <th>AB</th>\n",
       "      <th>PA</th>\n",
       "      <th>Rk</th>\n",
       "      <th>GameYear</th>\n",
       "    </tr>\n",
       "  </thead>\n",
       "  <tbody>\n",
       "    <tr>\n",
       "      <th>0</th>\n",
       "      <td>Carson Kelly</td>\n",
       "      <td>2018-05-06</td>\n",
       "      <td>0</td>\n",
       "      <td>1</td>\n",
       "      <td>1</td>\n",
       "      <td>1</td>\n",
       "      <td>2018</td>\n",
       "    </tr>\n",
       "    <tr>\n",
       "      <th>1</th>\n",
       "      <td>Carson Kelly</td>\n",
       "      <td>2018-05-07</td>\n",
       "      <td>0</td>\n",
       "      <td>2</td>\n",
       "      <td>3</td>\n",
       "      <td>2</td>\n",
       "      <td>2018</td>\n",
       "    </tr>\n",
       "    <tr>\n",
       "      <th>2</th>\n",
       "      <td>Carson Kelly</td>\n",
       "      <td>2018-05-08</td>\n",
       "      <td>0</td>\n",
       "      <td>1</td>\n",
       "      <td>1</td>\n",
       "      <td>3</td>\n",
       "      <td>2018</td>\n",
       "    </tr>\n",
       "    <tr>\n",
       "      <th>3</th>\n",
       "      <td>Carson Kelly</td>\n",
       "      <td>2018-05-10</td>\n",
       "      <td>0</td>\n",
       "      <td>3</td>\n",
       "      <td>3</td>\n",
       "      <td>4</td>\n",
       "      <td>2018</td>\n",
       "    </tr>\n",
       "    <tr>\n",
       "      <th>4</th>\n",
       "      <td>Carson Kelly</td>\n",
       "      <td>2018-05-11</td>\n",
       "      <td>0</td>\n",
       "      <td>5</td>\n",
       "      <td>5</td>\n",
       "      <td>5</td>\n",
       "      <td>2018</td>\n",
       "    </tr>\n",
       "    <tr>\n",
       "      <th>5</th>\n",
       "      <td>Carson Kelly</td>\n",
       "      <td>2018-05-12</td>\n",
       "      <td>0</td>\n",
       "      <td>0</td>\n",
       "      <td>0</td>\n",
       "      <td>6</td>\n",
       "      <td>2018</td>\n",
       "    </tr>\n",
       "    <tr>\n",
       "      <th>6</th>\n",
       "      <td>Carson Kelly</td>\n",
       "      <td>2018-05-13</td>\n",
       "      <td>1</td>\n",
       "      <td>4</td>\n",
       "      <td>4</td>\n",
       "      <td>7</td>\n",
       "      <td>2018</td>\n",
       "    </tr>\n",
       "    <tr>\n",
       "      <th>7</th>\n",
       "      <td>Carson Kelly</td>\n",
       "      <td>2018-05-15</td>\n",
       "      <td>1</td>\n",
       "      <td>2</td>\n",
       "      <td>2</td>\n",
       "      <td>8</td>\n",
       "      <td>2018</td>\n",
       "    </tr>\n",
       "  </tbody>\n",
       "</table>\n",
       "</div>"
      ],
      "text/plain": [
       "     PlayerName   game_date  H  AB  PA  Rk  GameYear\n",
       "0  Carson Kelly  2018-05-06  0   1   1   1      2018\n",
       "1  Carson Kelly  2018-05-07  0   2   3   2      2018\n",
       "2  Carson Kelly  2018-05-08  0   1   1   3      2018\n",
       "3  Carson Kelly  2018-05-10  0   3   3   4      2018\n",
       "4  Carson Kelly  2018-05-11  0   5   5   5      2018\n",
       "5  Carson Kelly  2018-05-12  0   0   0   6      2018\n",
       "6  Carson Kelly  2018-05-13  1   4   4   7      2018\n",
       "7  Carson Kelly  2018-05-15  1   2   2   8      2018"
      ]
     },
     "execution_count": 37,
     "metadata": {},
     "output_type": "execute_result"
    }
   ],
   "source": [
    "filtered"
   ]
  },
  {
   "cell_type": "code",
   "execution_count": 59,
   "metadata": {},
   "outputs": [
    {
     "name": "stdout",
     "output_type": "stream",
     "text": [
      "0 1\n",
      "2 0.0\n",
      "0 2\n",
      "3 0.0\n",
      "0 1\n",
      "4 0.0\n",
      "0 3\n",
      "5 0.0\n",
      "0 5\n",
      "6 0.0\n",
      "0 0\n",
      "7 nan\n",
      "1 4\n",
      "8 0.25\n",
      "1 2\n",
      "9 0.5\n",
      "0 4\n",
      "10 0.0\n",
      "0 1\n",
      "11 0.0\n",
      "0 0\n",
      "12 nan\n",
      "0 2\n",
      "13 0.0\n",
      "0 0\n",
      "14 nan\n",
      "0 0\n",
      "15 nan\n",
      "0 0\n",
      "16 nan\n",
      "2 4\n",
      "17 0.5\n",
      "0 4\n",
      "18 0.0\n",
      "0 1\n",
      "19 0.0\n"
     ]
    },
    {
     "name": "stderr",
     "output_type": "stream",
     "text": [
      "<ipython-input-41-00c2f1a6b5f7>:5: RuntimeWarning: invalid value encountered in longlong_scalars\n",
      "  return h/ab\n",
      "<ipython-input-41-00c2f1a6b5f7>:5: RuntimeWarning: invalid value encountered in longlong_scalars\n",
      "  return h/ab\n",
      "<ipython-input-41-00c2f1a6b5f7>:5: RuntimeWarning: invalid value encountered in longlong_scalars\n",
      "  return h/ab\n",
      "<ipython-input-41-00c2f1a6b5f7>:5: RuntimeWarning: invalid value encountered in longlong_scalars\n",
      "  return h/ab\n",
      "<ipython-input-41-00c2f1a6b5f7>:5: RuntimeWarning: invalid value encountered in longlong_scalars\n",
      "  return h/ab\n"
     ]
    }
   ],
   "source": [
    "todays_game = 10\n",
    "filtered = batter_logs.loc[(batter_logs['GameYear'] == 2018)]\n",
    "for index, row in filtered.iterrows():\n",
    "    if(row['Rk'] == 1):\n",
    "        continue\n",
    "    else:\n",
    "        previous = filtered.loc[filtered['Rk'] == row['Rk']-1]\n",
    "        print(row['Rk'], getBA(previous))\n",
    "#     filtered = batter_logs.loc[(batter_logs['Rk'] == todays_game-1) & (batter_logs['GameYear'] == 2018)]\n",
    "# getBA(filtered)\n",
    "# filtered\n",
    "\n",
    "\n"
   ]
  }
 ],
 "metadata": {
  "interpreter": {
   "hash": "63fd5069d213b44bf678585dea6b12cceca9941eaf7f819626cde1f2670de90d"
  },
  "kernelspec": {
   "display_name": "Python 3.9.6 64-bit",
   "language": "python",
   "name": "python3"
  },
  "language_info": {
   "codemirror_mode": {
    "name": "ipython",
    "version": 3
   },
   "file_extension": ".py",
   "mimetype": "text/x-python",
   "name": "python",
   "nbconvert_exporter": "python",
   "pygments_lexer": "ipython3",
   "version": "3.8.8"
  },
  "orig_nbformat": 4
 },
 "nbformat": 4,
 "nbformat_minor": 2
}
