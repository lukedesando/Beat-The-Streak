{
 "metadata": {
  "language_info": {
   "codemirror_mode": {
    "name": "ipython",
    "version": 3
   },
   "file_extension": ".py",
   "mimetype": "text/x-python",
   "name": "python",
   "nbconvert_exporter": "python",
   "pygments_lexer": "ipython3",
   "version": "3.9.6"
  },
  "orig_nbformat": 4,
  "kernelspec": {
   "name": "python3",
   "display_name": "Python 3.9.6 64-bit"
  },
  "interpreter": {
   "hash": "10fa5b18b6821efcf1a0ca8a7bbd5168ce7aee3a71c9cf3dc990838fd8f195d9"
  }
 },
 "nbformat": 4,
 "nbformat_minor": 2,
 "cells": [
  {
   "cell_type": "code",
   "execution_count": 69,
   "source": [
    "import csv\r\n",
    "import sys\r\n",
    "from pybaseball import playerid_reverse_lookup\r\n",
    "\r\n",
    "FanGraphsCSV = csv.reader(open('FanGraphs_Players_IDs_2021.csv', \"r\"), delimiter=\",\")\r\n",
    "\r\n",
    "def Find_Fangraph_ID(player_name):\r\n",
    "    #loop through the csv list\r\n",
    "    for row in FanGraphsCSV:\r\n",
    "        #if current rows 2nd value is equal to input, print that row\r\n",
    "        if player_name == row[0]:\r\n",
    "            FGid = row[2]\r\n",
    "            #print(FGid)\r\n",
    "            return int(FGid)\r\n",
    "\r\n",
    "def playerid_reverse_lookup_Fangraphs(player_name):\r\n",
    "    FGid = Find_Fangraph_ID(player_name)\r\n",
    "    Fangraph_Keys_List = [FGid]\r\n",
    "    print(FGid)\r\n",
    "    return playerid_reverse_lookup(Fangraph_Keys_List,key_type='fangraphs')\r\n",
    "\r\n",
    "#player = \"Madison Bumgarner\"\r\n",
    "#FangraphKey = Find_Fangraph_ID(player)\r\n",
    "#print(FangraphKey)\r\n",
    "#Fangraph_Keys_List = [FangraphKey]\r\n",
    "#Fangraph_Keys_List.append(FangraphKey)\r\n",
    "\r\n",
    "\r\n",
    "playerid_reverse_lookup_Fangraphs(\"Juan Soto\")"
   ],
   "outputs": [
    {
     "output_type": "stream",
     "name": "stdout",
     "text": [
      "20123\n"
     ]
    },
    {
     "output_type": "execute_result",
     "data": {
      "text/plain": [
       "  name_last name_first  key_mlbam key_retro key_bbref  key_fangraphs  \\\n",
       "0      soto       juan     665742  sotoj001  sotoju01          20123   \n",
       "\n",
       "   mlb_played_first  mlb_played_last  \n",
       "0            2018.0           2021.0  "
      ],
      "text/html": [
       "<div>\n",
       "<style scoped>\n",
       "    .dataframe tbody tr th:only-of-type {\n",
       "        vertical-align: middle;\n",
       "    }\n",
       "\n",
       "    .dataframe tbody tr th {\n",
       "        vertical-align: top;\n",
       "    }\n",
       "\n",
       "    .dataframe thead th {\n",
       "        text-align: right;\n",
       "    }\n",
       "</style>\n",
       "<table border=\"1\" class=\"dataframe\">\n",
       "  <thead>\n",
       "    <tr style=\"text-align: right;\">\n",
       "      <th></th>\n",
       "      <th>name_last</th>\n",
       "      <th>name_first</th>\n",
       "      <th>key_mlbam</th>\n",
       "      <th>key_retro</th>\n",
       "      <th>key_bbref</th>\n",
       "      <th>key_fangraphs</th>\n",
       "      <th>mlb_played_first</th>\n",
       "      <th>mlb_played_last</th>\n",
       "    </tr>\n",
       "  </thead>\n",
       "  <tbody>\n",
       "    <tr>\n",
       "      <th>0</th>\n",
       "      <td>soto</td>\n",
       "      <td>juan</td>\n",
       "      <td>665742</td>\n",
       "      <td>sotoj001</td>\n",
       "      <td>sotoju01</td>\n",
       "      <td>20123</td>\n",
       "      <td>2018.0</td>\n",
       "      <td>2021.0</td>\n",
       "    </tr>\n",
       "  </tbody>\n",
       "</table>\n",
       "</div>"
      ]
     },
     "metadata": {},
     "execution_count": 69
    }
   ],
   "metadata": {}
  },
  {
   "cell_type": "code",
   "execution_count": 10,
   "source": [
    "from pybaseball import playerid_reverse_lookup\r\n",
    "fgIDs = [2036]\r\n",
    "playerid_reverse_lookup(fgIDs,key_type='fangraphs')"
   ],
   "outputs": [
    {
     "output_type": "execute_result",
     "data": {
      "text/plain": [
       "  name_last name_first  key_mlbam key_retro  key_bbref  key_fangraphs  \\\n",
       "0   kershaw    clayton     477132  kersc001  kershcl01           2036   \n",
       "\n",
       "   mlb_played_first  mlb_played_last  \n",
       "0            2008.0           2021.0  "
      ],
      "text/html": [
       "<div>\n",
       "<style scoped>\n",
       "    .dataframe tbody tr th:only-of-type {\n",
       "        vertical-align: middle;\n",
       "    }\n",
       "\n",
       "    .dataframe tbody tr th {\n",
       "        vertical-align: top;\n",
       "    }\n",
       "\n",
       "    .dataframe thead th {\n",
       "        text-align: right;\n",
       "    }\n",
       "</style>\n",
       "<table border=\"1\" class=\"dataframe\">\n",
       "  <thead>\n",
       "    <tr style=\"text-align: right;\">\n",
       "      <th></th>\n",
       "      <th>name_last</th>\n",
       "      <th>name_first</th>\n",
       "      <th>key_mlbam</th>\n",
       "      <th>key_retro</th>\n",
       "      <th>key_bbref</th>\n",
       "      <th>key_fangraphs</th>\n",
       "      <th>mlb_played_first</th>\n",
       "      <th>mlb_played_last</th>\n",
       "    </tr>\n",
       "  </thead>\n",
       "  <tbody>\n",
       "    <tr>\n",
       "      <th>0</th>\n",
       "      <td>kershaw</td>\n",
       "      <td>clayton</td>\n",
       "      <td>477132</td>\n",
       "      <td>kersc001</td>\n",
       "      <td>kershcl01</td>\n",
       "      <td>2036</td>\n",
       "      <td>2008.0</td>\n",
       "      <td>2021.0</td>\n",
       "    </tr>\n",
       "  </tbody>\n",
       "</table>\n",
       "</div>"
      ]
     },
     "metadata": {},
     "execution_count": 10
    }
   ],
   "metadata": {}
  },
  {
   "cell_type": "code",
   "execution_count": 25,
   "source": [
    "import csv\r\n",
    "import sys\r\n",
    "\r\n",
    "#create list of FGIDS from CSV\r\n",
    "fgIDs = [2036]\r\n",
    "\r\n",
    "self.player_keys = pd.read_excel('PlayerKeys.xlsx')\r\n",
    "self.FanGraphsCSV = csv.reader(open('FanGraphs_Players_IDs_2021.csv', \"r\"), delimiter=\",\")\r\n",
    "\r\n",
    "for r in range(10,20):\r\n",
    "    player = FanGraphsCSV.row[2]\r\n",
    "    if player \r\n",
    "#loop through the csv list\r\n",
    "for row in FanGraphsCSV:\r\n",
    "    #if current rows 2nd value is equal to input, print that row\r\n",
    "    if player == row[0]:\r\n",
    "        fgIDs.append(row[2])\r\n",
    "\r\n",
    "#loop through the csv list\r\n",
    "for row in FanGraphsCSV:\r\n",
    "    #if current rows 2nd value is equal to input, print that row\r\n",
    "    if player == row[0]:\r\n",
    "        fgIDs.append(row[2],)\r\n",
    "\r\n",
    "print(fgIDs)"
   ],
   "outputs": [
    {
     "output_type": "stream",
     "name": "stdout",
     "text": [
      "[2036, '5524']\n"
     ]
    }
   ],
   "metadata": {}
  },
  {
   "cell_type": "code",
   "execution_count": null,
   "source": [
    "from pybaseball import playerid_reverse_lookup\r\n",
    "self.player_keys = pd.read_excel('PlayerKeys.xlsx')\r\n",
    "FanGraphsCSV\r\n",
    "\r\n",
    "fgIDs = [2036]\r\n",
    "\r\n",
    "for row in starters.iterrows():\r\n",
    "\tif row['espn_id'] not in self.player_keys.espn_id.values:\r\n",
    "\t\tid_list = self.search_keys(row['Name'])\r\n",
    "                \r\n",
    "\t\tif id_list is not None:\r\n",
    "\t\t\tid_list['espn_id'] = row['espn_id']\r\n",
    "\t\t\t# id_list = pd.DataFrame([id_list])\r\n",
    "\t\t\tmissing_pitcher_keys.append(id_list)\r\n",
    "self.player_keys = self.player_keys.append(missing_pitcher_keys, ignore_index=True)\r\n",
    "#need to drop index from adding\r\n",
    "self.player_keys.to_excel(\"PlayerKeys.xlsx\",index=False)\r\n",
    "#self.player_keys.to_csv(\"PlayerKeys.csv\",index=False)"
   ],
   "outputs": [],
   "metadata": {}
  }
 ]
}