{
 "cells": [
  {
   "cell_type": "code",
   "execution_count": 3,
   "source": [
    "from typing import Optional\r\n",
    "from statsapi import player_stats,player_stat_data,lookup_player\r\n",
    "import pandas as pd\r\n",
    "\r\n",
    "#from baseball_scraper import espn, playerid_lookup\r\n",
    "from datetime import datetime, timedelta\r\n",
    "Today = datetime.today()"
   ],
   "outputs": [],
   "metadata": {}
  },
  {
   "cell_type": "code",
   "execution_count": 5,
   "source": [
    "def Get_Player_ID(PlayerName):\r\n",
    "    \"Because I'm Lazy\"\r\n",
    "    PlayerJson = lookup_player(PlayerName)\r\n",
    "    PlayerID = PlayerJson[0]['id']\r\n",
    "    return PlayerID"
   ],
   "outputs": [],
   "metadata": {}
  },
  {
   "cell_type": "code",
   "execution_count": 8,
   "source": [
    "batterID = Get_Player_ID(\"Juan Soto\")\r\n",
    "BatterStatsDict = player_stat_data(batterID,group='batting')\r\n",
    "print(player_stat_data(batterID,group='batting'))"
   ],
   "outputs": [],
   "metadata": {}
  },
  {
   "cell_type": "code",
   "execution_count": 7,
   "source": [
    "PitcherID = Get_Player_ID('Patrick Corbin')\r\n",
    "PitcherStatsDict = player_stat_data(PitcherID,group='pitching')\r\n",
    "print(PitcherStatsDict)"
   ],
   "outputs": [
    {
     "output_type": "stream",
     "name": "stdout",
     "text": [
      "{'id': 571578, 'first_name': 'Patrick', 'last_name': 'Corbin', 'active': True, 'current_team': 'Washington Nationals', 'position': 'P', 'nickname': 'Corby', 'last_played': None, 'mlb_debut': '2012-04-30', 'bat_side': 'Left', 'pitch_hand': 'Left', 'stats': [{'type': 'season', 'group': 'pitching', 'season': '2021', 'stats': {'gamesPlayed': 24, 'gamesStarted': 24, 'groundOuts': 152, 'airOuts': 127, 'runs': 89, 'doubles': 22, 'triples': 3, 'homeRuns': 29, 'strikeOuts': 107, 'baseOnBalls': 41, 'intentionalWalks': 1, 'hits': 144, 'hitByPitch': 3, 'avg': '.276', 'atBats': 522, 'obp': '.330', 'slg': '.496', 'ops': '.826', 'caughtStealing': 4, 'stolenBases': 11, 'stolenBasePercentage': '.733', 'groundIntoDoublePlay': 13, 'numberOfPitches': 2097, 'era': '5.82', 'inningsPitched': '133.0', 'wins': 7, 'losses': 12, 'saves': 0, 'saveOpportunities': 0, 'holds': 0, 'blownSaves': 0, 'earnedRuns': 86, 'whip': '1.39', 'battersFaced': 575, 'outs': 399, 'gamesPitched': 24, 'completeGames': 0, 'shutouts': 0, 'strikes': 1339, 'strikePercentage': '.640', 'hitBatsmen': 3, 'balks': 0, 'wildPitches': 0, 'pickoffs': 2, 'totalBases': 259, 'groundOutsToAirouts': '1.20', 'winPercentage': '.368', 'pitchesPerInning': '15.77', 'gamesFinished': 0, 'strikeoutWalkRatio': '2.61', 'strikeoutsPer9Inn': '7.24', 'walksPer9Inn': '2.77', 'hitsPer9Inn': '9.74', 'runsScoredPer9': '6.02', 'homeRunsPer9': '1.96', 'inheritedRunners': 0, 'inheritedRunnersScored': 0, 'catchersInterference': 1, 'sacBunts': 4, 'sacFlies': 4}}]}\n"
     ]
    }
   ],
   "metadata": {}
  }
 ],
 "metadata": {
  "orig_nbformat": 4,
  "language_info": {
   "name": "python",
   "version": "3.9.6",
   "mimetype": "text/x-python",
   "codemirror_mode": {
    "name": "ipython",
    "version": 3
   },
   "pygments_lexer": "ipython3",
   "nbconvert_exporter": "python",
   "file_extension": ".py"
  },
  "kernelspec": {
   "name": "python3",
   "display_name": "Python 3.9.6 64-bit"
  },
  "interpreter": {
   "hash": "63fd5069d213b44bf678585dea6b12cceca9941eaf7f819626cde1f2670de90d"
  }
 },
 "nbformat": 4,
 "nbformat_minor": 2
}