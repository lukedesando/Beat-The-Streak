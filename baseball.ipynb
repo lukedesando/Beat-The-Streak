{
  "nbformat": 4,
  "nbformat_minor": 0,
  "metadata": {
    "orig_nbformat": 4,
    "language_info": {
      "name": "python",
      "version": "3.8.8",
      "mimetype": "text/x-python",
      "codemirror_mode": {
        "name": "ipython",
        "version": 3
      },
      "pygments_lexer": "ipython3",
      "nbconvert_exporter": "python",
      "file_extension": ".py"
    },
    "kernelspec": {
      "name": "python3",
      "display_name": "Python 3.8.8 64-bit ('base': conda)"
    },
    "interpreter": {
      "hash": "b3ba2566441a7c06988d0923437866b63cedc61552a5af99d1f4fb67d367b25f"
    },
    "colab": {
      "name": "baseball.ipynb",
      "provenance": [],
      "collapsed_sections": [],
      "toc_visible": true
    }
  },
  "cells": [
    {
      "cell_type": "markdown",
      "metadata": {
        "id": "0Cf-_GoBosna"
      },
      "source": [
        "# Prerequisities"
      ]
    },
    {
      "cell_type": "code",
      "metadata": {
        "id": "O6CbcihE4BuR"
      },
      "source": [
        "#Install Packages \n",
        "\n",
        "!pip install baseball_scraper\n",
        "!pip install baseball_id"
      ],
      "execution_count": null,
      "outputs": []
    },
    {
      "cell_type": "code",
      "metadata": {
        "id": "apzOTO_-4BuT"
      },
      "source": [
        "# Import Packages\n",
        "\n",
        "# Baseball Scraper\n",
        "from baseball_scraper import baseball_reference\n",
        "from baseball_scraper import espn\n",
        "from baseball_scraper import fangraphs\n",
        "from baseball_scraper import playerid_lookup\n",
        "from baseball_scraper import statcast, statcast_pitcher, statcast_batter\n",
        "from baseball_scraper import team_batting, batting_stats\n",
        "from baseball_scraper import playerid_lookup\n",
        "\n",
        "\n",
        "#DateTime\n",
        "from datetime import datetime\n",
        "from datetime import date, timedelta\n",
        "\n",
        "\n",
        "# Baseball ID\n",
        "from baseball_id import Lookup\n",
        "\n",
        "#Misc\n",
        "import requests\n",
        "import io\n",
        "import bs4\n",
        "import pandas as pd"
      ],
      "execution_count": null,
      "outputs": []
    },
    {
      "cell_type": "code",
      "metadata": {
        "id": "b0iFMElofV2z"
      },
      "source": [
        "# Important Global Variables\n",
        "\n",
        "Today = date.today()\n",
        "Tomorrow = date.today() + timedelta(days=1)\n",
        "Yesterday = date.today() + timedelta(days=-1)\n",
        "\n",
        "#MLB Players Dictionary, so it can loop and find values\n",
        "MLB_Players = {}\n",
        "#Let me try a different idea\n",
        "MLB_Players_ID_Dataframe\n",
        "MLB_Players_ESPN_ID_Dict = {}\n",
        "MLB_Players_MLB_ID_Dict = {}\n",
        "Probable_Pitchers_and_Opponents_Dict = {}\n",
        "#Add J. D. Martinez as exception because fuck this guy and his two first names\n",
        "#If you're reading this, god damn you Julio Daniel's parents\n",
        "MLB_Players_MLB_ID_Dict[\"JD Martinez\"] = 502110"
      ],
      "execution_count": 115,
      "outputs": []
    },
    {
      "cell_type": "code",
      "metadata": {
        "id": "_RXIbnum4BuT"
      },
      "source": [
        "# Starting Pitcher Scraper\n",
        "def Get_Probable_Pitchers(StartDate, EndDate):\n",
        "  es = espn.ProbableStartersScraper (StartDate, EndDate)\n",
        "  ProbablePitchers = es.scrape()\n",
        "  return ProbablePitchers\n",
        "\n",
        "# ProbablePitchers is a dataframe\n",
        "#If we can run the names through the MLB_ID search as some sort of loop\n",
        "#Then we can create IDs instantly for all these players\n",
        "#if we can figure out a way to copy and paste that data,\n",
        "#then we've got the next sets of pitchers coming out of the gates\n",
        "\n",
        "def Probable_Pitcher_Opponents_Update():  \n",
        "  ProbablePitchers = Get_Probable_Pitchers(Today, Today)\n",
        "  Names_and_Opponents = ProbablePitchers[[\"Name\",\"opponent\"]]\n",
        "  Probable_Pitchers_and_Opponents_Dict = dict(Names_and_Opponents.values)\n",
        "  return\n",
        "#What if I don't need a dictionary?"
      ],
      "execution_count": 144,
      "outputs": []
    },
    {
      "cell_type": "code",
      "metadata": {
        "id": "z6jPaQsNuhJE"
      },
      "source": [
        "es = espn.ProbableStartersScraper (Today,Today)\n",
        "ProbablePitchers = es.scrape()\n",
        "ProbablePitchers"
      ],
      "execution_count": null,
      "outputs": []
    },
    {
      "cell_type": "code",
      "metadata": {
        "id": "iIsgLVORbkY2"
      },
      "source": [
        "def Add_To_MLB_Players_ID_Dataframe(SearchPlayerName):\n",
        "  #PlayerFirstName,PlayerLastName=SearchPlayerName.split(\" \")\n",
        " \n",
        " #Handled at GET_KEY level\n",
        "  #Player_Name_Without_Spaces = PlayerFirstName + PlayerLastName\n",
        "  #Once I get the key, track it to their name\n",
        "  #MLB_Players[Player_Name_Without_Spaces] = Get_Key_MLBAM(SearchPlayerName,PlayerIndexNum)\n",
        "  \n",
        "  #PlayerIndexNum = 0\n",
        "  #If it's a dictionary, I might not need to save the name without a space\n",
        "  #MLB_Players_MLB_ID_Dict[SearchPlayerName] = Get_Key_MLBAM(SearchPlayerName,PlayerIndexNum)\n",
        "  #need way to double check against identical names\n",
        "\n",
        "  MLB_Players_MLB_ID_Dict[SearchPlayerName] = Get_Key_MLBAM(SearchPlayerName)\n",
        "  #identical to above line, but with indexNum removed\n",
        "  #Since the hope is that the first index will always be the player I'm looking for\n",
        "  return\n",
        "\n",
        "def Get_Key_MLBAM(PlayerName):\n",
        "  #Keeping the Index Flexible right here, just in case\n",
        "  PlayerIndexNum = 0\n",
        "  PlayerFirstName,PlayerLastName=PlayerName.split(\" \")\n",
        "  ErrorMessage = \"Try a Different Name\"\n",
        "  try:\n",
        "      # We'll have to check if there's a duplicate name somehow\n",
        "      Player_Dataframe = playerid_lookup(PlayerLastName,PlayerFirstName)\n",
        "      #Trying to get the first result to be a player who played in 2021\n",
        "      #Crashes the function for some reason, but it worked out of the function\n",
        "      Player_Dataframe = Player_Dataframe.sort_values(\"mlb_played_last\",na_position='last',ascending=False).reset_index(drop=True)\n",
        "      #The above line throws an exception for some reason\n",
        "      #Without that line, it works\n",
        "      MLBKey_ID = Player_Dataframe.at[PlayerIndexNum,'key_mlbam']\n",
        "  except:\n",
        "      print(ErrorMessage)\n",
        "      MLBKey_ID = \"-2\"\n",
        "  return MLBKey_ID"
      ],
      "execution_count": 223,
      "outputs": []
    },
    {
      "cell_type": "code",
      "metadata": {
        "colab": {
          "base_uri": "https://localhost:8080/"
        },
        "id": "jHF3qYgChj5f",
        "outputId": "dd275e0c-68a9-4130-95cb-bcfe1278da05"
      },
      "source": [
        "PlayerName = \"Fernando Tatis\"\n",
        "#Add_To_MLBID_Dictionary(PlayerName)\n",
        "#Get_Key_MLBAM(PlayerName)\n",
        "PlayerFirstName,PlayerLastName=PlayerName.split(\" \")\n",
        "Get_Key_MLBAM(PlayerName)\n",
        "\n",
        "Add_To_MLBID_Dictionary(PlayerName)\n",
        "MLB_Players_MLB_ID_Dict"
      ],
      "execution_count": 225,
      "outputs": [
        {
          "output_type": "stream",
          "text": [
            "Gathering player lookup table. This may take a moment.\n",
            "Gathering player lookup table. This may take a moment.\n"
          ],
          "name": "stdout"
        },
        {
          "output_type": "execute_result",
          "data": {
            "text/plain": [
              "{'Fernando Tatis': 665487, 'JD Martinez': 502110, 'Madison Bumgarner': 518516}"
            ]
          },
          "metadata": {
            "tags": []
          },
          "execution_count": 225
        }
      ]
    },
    {
      "cell_type": "code",
      "metadata": {
        "colab": {
          "base_uri": "https://localhost:8080/",
          "height": 178
        },
        "id": "n1Q3r224_IF0",
        "outputId": "1dccb17b-4c80-40ae-99cd-57e7a71979ea"
      },
      "source": [
        "# Add to MLBID Dict Test\n",
        "\n",
        "PlayerName = \"Fernando Tatis\"\n",
        "#Add_To_MLBID_Dictionary(PlayerName)\n",
        "#Get_Key_MLBAM(PlayerName)\n",
        "PlayerFirstName,PlayerLastName=PlayerName.split(\" \")\n",
        "Player_Dataframe = playerid_lookup(PlayerLastName,PlayerFirstName)\n",
        "Player_Dataframe = Player_Dataframe.sort_values(\"mlb_played_last\",na_position='last',ascending=False).reset_index(drop=True)\n",
        "Player_Dataframe\n",
        "#MLB_Players_MLB_ID_Dict\n",
        "#We want return: 665487"
      ],
      "execution_count": 214,
      "outputs": [
        {
          "output_type": "stream",
          "text": [
            "Gathering player lookup table. This may take a moment.\n"
          ],
          "name": "stdout"
        },
        {
          "output_type": "execute_result",
          "data": {
            "text/html": [
              "<div>\n",
              "<style scoped>\n",
              "    .dataframe tbody tr th:only-of-type {\n",
              "        vertical-align: middle;\n",
              "    }\n",
              "\n",
              "    .dataframe tbody tr th {\n",
              "        vertical-align: top;\n",
              "    }\n",
              "\n",
              "    .dataframe thead th {\n",
              "        text-align: right;\n",
              "    }\n",
              "</style>\n",
              "<table border=\"1\" class=\"dataframe\">\n",
              "  <thead>\n",
              "    <tr style=\"text-align: right;\">\n",
              "      <th></th>\n",
              "      <th>name_last</th>\n",
              "      <th>name_first</th>\n",
              "      <th>key_mlbam</th>\n",
              "      <th>key_retro</th>\n",
              "      <th>key_bbref</th>\n",
              "      <th>key_fangraphs</th>\n",
              "      <th>mlb_played_first</th>\n",
              "      <th>mlb_played_last</th>\n",
              "    </tr>\n",
              "  </thead>\n",
              "  <tbody>\n",
              "    <tr>\n",
              "      <th>0</th>\n",
              "      <td>tatis</td>\n",
              "      <td>fernando</td>\n",
              "      <td>665487</td>\n",
              "      <td>tatif002</td>\n",
              "      <td>tatisfe02</td>\n",
              "      <td>19709</td>\n",
              "      <td>2019.0</td>\n",
              "      <td>2021.0</td>\n",
              "    </tr>\n",
              "    <tr>\n",
              "      <th>1</th>\n",
              "      <td>tatis</td>\n",
              "      <td>fernando</td>\n",
              "      <td>123107</td>\n",
              "      <td>tatif001</td>\n",
              "      <td>tatisfe01</td>\n",
              "      <td>798</td>\n",
              "      <td>1997.0</td>\n",
              "      <td>2010.0</td>\n",
              "    </tr>\n",
              "    <tr>\n",
              "      <th>2</th>\n",
              "      <td>tatis</td>\n",
              "      <td>fernando</td>\n",
              "      <td>-1</td>\n",
              "      <td>NaN</td>\n",
              "      <td>NaN</td>\n",
              "      <td>-1</td>\n",
              "      <td>NaN</td>\n",
              "      <td>NaN</td>\n",
              "    </tr>\n",
              "  </tbody>\n",
              "</table>\n",
              "</div>"
            ],
            "text/plain": [
              "  name_last name_first  ...  mlb_played_first mlb_played_last\n",
              "0     tatis   fernando  ...            2019.0          2021.0\n",
              "1     tatis   fernando  ...            1997.0          2010.0\n",
              "2     tatis   fernando  ...               NaN             NaN\n",
              "\n",
              "[3 rows x 8 columns]"
            ]
          },
          "metadata": {
            "tags": []
          },
          "execution_count": 214
        }
      ]
    },
    {
      "cell_type": "code",
      "metadata": {
        "id": "JwfM1oi0tIDa"
      },
      "source": [
        "# Player IDs key_mlbam\n",
        "# Really Need an Automated List - Fixing at the Moment\n",
        "\n",
        "#Pitchers\n",
        "PaoloEspino = 502179\n",
        "MaxScherzer = 453286\n",
        "JonLester = 452657\n",
        "BradHand = 543272\n",
        "ShaneMcClanahan = 663556\n",
        "MikeMinor = 501985\n",
        "DanielHudson = 543339\n",
        "ClaytonKershaw = 477132\n",
        "MadisonBumgarner = 518516\n",
        "MikeFoltynewicz = 592314\n",
        "BradKeller = 641745\n",
        "PatrickCorbin = 571578\n",
        "KyleHendricks = 543294\n",
        "JordanLyles = 543475\n",
        "DallasKeuchel = 572971\n",
        "ZachEflin = 621107\n",
        "ChrisFlexen = 623167\n",
        "JDMartinez = 502110\n",
        "RyanYarbrough = 642232\n",
        "ColeIrvin = 608344\n",
        "ZachDuke = 435043\n",
        "MartinPerez = 527048\n",
        "EdwinJackson = 429719\n",
        "\n",
        "#Hitters\n",
        "VladGuerrero = 665489\n",
        "FernandoTatis = 665487\n",
        "TreaTurner = 607208\n",
        "BryceHarper = 547180\n",
        "AaronJudge = 592450\n",
        "MikeTrout = 545361\n",
        "JuanSoto = 665742\n",
        "AdamFrazier = 624428\n",
        "NickCastellanos = 592206\n",
        "CedricMullins = 656775\n",
        "YuliGurriel = 493329\n",
        "JoseAltuve = 514888\n",
        "BryanReynolds = 668804\n",
        "JeanSegura = 516416\n",
        "XanderBogaerts = 593428\n",
        "DavidFletcher = 664058\n",
        "MichaelBrantley = 488726\n",
        "TimAnderson = 641313\n",
        "JustinTurner = 457759\n",
        "JesseWinker = 608385\n",
        "\n",
        "#Shohei Ohtani\n",
        "ShoheiOhtani = 660271"
      ],
      "execution_count": null,
      "outputs": []
    },
    {
      "cell_type": "markdown",
      "metadata": {
        "id": "TAYmOAw4ebb7"
      },
      "source": [
        "# Player Dictionary Functions"
      ]
    },
    {
      "cell_type": "code",
      "metadata": {
        "colab": {
          "base_uri": "https://localhost:8080/"
        },
        "id": "4FswtzsoaX38",
        "outputId": "c8860a33-89a0-4e56-fc29-aeaeb82db8cb"
      },
      "source": [
        "MLB_Players_MLB_ID_Dict\n",
        "\n",
        "#playerid_lookup(PlayerLastName,PlayerFirstName)\n",
        "\n",
        "#MLB_Players_ESPN_ID_Dict\n",
        "\n",
        "#Wainwright: 5403 ESPN 425749 MLB - absolutely no correlation\n",
        "# Pretty sure nobody would ever have a reason to cross the two\n"
      ],
      "execution_count": 221,
      "outputs": [
        {
          "output_type": "execute_result",
          "data": {
            "text/plain": [
              "{'JD Martinez': 502110, 'Madison Bumgarner': 518516}"
            ]
          },
          "metadata": {
            "tags": []
          },
          "execution_count": 221
        }
      ]
    },
    {
      "cell_type": "code",
      "metadata": {
        "colab": {
          "base_uri": "https://localhost:8080/",
          "height": 573
        },
        "id": "5TzO3ogDvRK9",
        "outputId": "4593616d-e268-4669-a4b1-2f2ba669a654"
      },
      "source": [
        "Probable_Pitcher_Opponents_Update() #Doesn't work\n",
        "  \n",
        "ProbablePitchers = Get_Probable_Pitchers(Today, Today)\n",
        "Names_and_Opponents = ProbablePitchers[[\"Name\",\"opponent\"]]\n",
        "Names_and_Opponents"
      ],
      "execution_count": 212,
      "outputs": [
        {
          "output_type": "execute_result",
          "data": {
            "text/html": [
              "<div>\n",
              "<style scoped>\n",
              "    .dataframe tbody tr th:only-of-type {\n",
              "        vertical-align: middle;\n",
              "    }\n",
              "\n",
              "    .dataframe tbody tr th {\n",
              "        vertical-align: top;\n",
              "    }\n",
              "\n",
              "    .dataframe thead th {\n",
              "        text-align: right;\n",
              "    }\n",
              "</style>\n",
              "<table border=\"1\" class=\"dataframe\">\n",
              "  <thead>\n",
              "    <tr style=\"text-align: right;\">\n",
              "      <th></th>\n",
              "      <th>Name</th>\n",
              "      <th>opponent</th>\n",
              "    </tr>\n",
              "  </thead>\n",
              "  <tbody>\n",
              "    <tr>\n",
              "      <th>0</th>\n",
              "      <td>Kyle Muller</td>\n",
              "      <td>NYM</td>\n",
              "    </tr>\n",
              "    <tr>\n",
              "      <th>1</th>\n",
              "      <td>Marcus Stroman</td>\n",
              "      <td>ATL</td>\n",
              "    </tr>\n",
              "    <tr>\n",
              "      <th>2</th>\n",
              "      <td>Thomas Hatch</td>\n",
              "      <td>BOS</td>\n",
              "    </tr>\n",
              "    <tr>\n",
              "      <th>3</th>\n",
              "      <td>Nick Pivetta</td>\n",
              "      <td>TOR</td>\n",
              "    </tr>\n",
              "    <tr>\n",
              "      <th>4</th>\n",
              "      <td>Joe Ross</td>\n",
              "      <td>PHI</td>\n",
              "    </tr>\n",
              "    <tr>\n",
              "      <th>5</th>\n",
              "      <td>Spencer Howard</td>\n",
              "      <td>WSH</td>\n",
              "    </tr>\n",
              "    <tr>\n",
              "      <th>6</th>\n",
              "      <td>Wade Miley</td>\n",
              "      <td>CHC</td>\n",
              "    </tr>\n",
              "    <tr>\n",
              "      <th>7</th>\n",
              "      <td>Kyle Hendricks</td>\n",
              "      <td>CIN</td>\n",
              "    </tr>\n",
              "    <tr>\n",
              "      <th>8</th>\n",
              "      <td>Bryse Wilson</td>\n",
              "      <td>NYM</td>\n",
              "    </tr>\n",
              "    <tr>\n",
              "      <th>9</th>\n",
              "      <td>Dallas Keuchel</td>\n",
              "      <td>KC</td>\n",
              "    </tr>\n",
              "    <tr>\n",
              "      <th>10</th>\n",
              "      <td>Mike Minor</td>\n",
              "      <td>CHW</td>\n",
              "    </tr>\n",
              "    <tr>\n",
              "      <th>11</th>\n",
              "      <td>Matt Manning</td>\n",
              "      <td>MIN</td>\n",
              "    </tr>\n",
              "    <tr>\n",
              "      <th>12</th>\n",
              "      <td>Michael Pineda</td>\n",
              "      <td>DET</td>\n",
              "    </tr>\n",
              "    <tr>\n",
              "      <th>13</th>\n",
              "      <td>German Marquez</td>\n",
              "      <td>LAA</td>\n",
              "    </tr>\n",
              "    <tr>\n",
              "      <th>14</th>\n",
              "      <td>Shohei Ohtani</td>\n",
              "      <td>COL</td>\n",
              "    </tr>\n",
              "    <tr>\n",
              "      <th>15</th>\n",
              "      <td>Luis Garcia</td>\n",
              "      <td>SEA</td>\n",
              "    </tr>\n",
              "    <tr>\n",
              "      <th>16</th>\n",
              "      <td>Darren McCaughan</td>\n",
              "      <td>HOU</td>\n",
              "    </tr>\n",
              "  </tbody>\n",
              "</table>\n",
              "</div>"
            ],
            "text/plain": [
              "                Name opponent\n",
              "0        Kyle Muller      NYM\n",
              "1     Marcus Stroman      ATL\n",
              "2       Thomas Hatch      BOS\n",
              "3       Nick Pivetta      TOR\n",
              "4           Joe Ross      PHI\n",
              "5     Spencer Howard      WSH\n",
              "6         Wade Miley      CHC\n",
              "7     Kyle Hendricks      CIN\n",
              "8       Bryse Wilson      NYM\n",
              "9     Dallas Keuchel       KC\n",
              "10        Mike Minor      CHW\n",
              "11      Matt Manning      MIN\n",
              "12    Michael Pineda      DET\n",
              "13    German Marquez      LAA\n",
              "14     Shohei Ohtani      COL\n",
              "15       Luis Garcia      SEA\n",
              "16  Darren McCaughan      HOU"
            ]
          },
          "metadata": {
            "tags": []
          },
          "execution_count": 212
        }
      ]
    },
    {
      "cell_type": "code",
      "metadata": {
        "colab": {
          "base_uri": "https://localhost:8080/",
          "height": 178
        },
        "id": "CxCvARyI56pQ",
        "outputId": "81603929-76be-430d-a662-626071847781"
      },
      "source": [
        "#Trying to get the first result to be a player who played in 2021\n",
        "\n",
        "PlayerName = \"Fernando Tatis\"\n",
        "PlayerFirstName,PlayerLastName=PlayerName.split(\" \")\n",
        "\n",
        "Playerdf = playerid_lookup(PlayerLastName, PlayerFirstName)\n",
        "#Playerdf_current = Playerdf[(Playerdf[\"mlb_played_last\"] == 2021.0)]\n",
        "#Playerdf_current\n",
        "Playerdf = Playerdf.sort_values(\"mlb_played_last\",na_position='last',ascending=False).reset_index(drop=True)\n",
        "#Playerdf.reset_index(drop=True,inplace=True)\n",
        "Playerdf\n",
        "#Playerdf.reset_index(drop=True)"
      ],
      "execution_count": 140,
      "outputs": [
        {
          "output_type": "stream",
          "text": [
            "Gathering player lookup table. This may take a moment.\n"
          ],
          "name": "stdout"
        },
        {
          "output_type": "execute_result",
          "data": {
            "text/html": [
              "<div>\n",
              "<style scoped>\n",
              "    .dataframe tbody tr th:only-of-type {\n",
              "        vertical-align: middle;\n",
              "    }\n",
              "\n",
              "    .dataframe tbody tr th {\n",
              "        vertical-align: top;\n",
              "    }\n",
              "\n",
              "    .dataframe thead th {\n",
              "        text-align: right;\n",
              "    }\n",
              "</style>\n",
              "<table border=\"1\" class=\"dataframe\">\n",
              "  <thead>\n",
              "    <tr style=\"text-align: right;\">\n",
              "      <th></th>\n",
              "      <th>name_last</th>\n",
              "      <th>name_first</th>\n",
              "      <th>key_mlbam</th>\n",
              "      <th>key_retro</th>\n",
              "      <th>key_bbref</th>\n",
              "      <th>key_fangraphs</th>\n",
              "      <th>mlb_played_first</th>\n",
              "      <th>mlb_played_last</th>\n",
              "    </tr>\n",
              "  </thead>\n",
              "  <tbody>\n",
              "    <tr>\n",
              "      <th>0</th>\n",
              "      <td>tatis</td>\n",
              "      <td>fernando</td>\n",
              "      <td>665487</td>\n",
              "      <td>tatif002</td>\n",
              "      <td>tatisfe02</td>\n",
              "      <td>19709</td>\n",
              "      <td>2019.0</td>\n",
              "      <td>2021.0</td>\n",
              "    </tr>\n",
              "    <tr>\n",
              "      <th>1</th>\n",
              "      <td>tatis</td>\n",
              "      <td>fernando</td>\n",
              "      <td>123107</td>\n",
              "      <td>tatif001</td>\n",
              "      <td>tatisfe01</td>\n",
              "      <td>798</td>\n",
              "      <td>1997.0</td>\n",
              "      <td>2010.0</td>\n",
              "    </tr>\n",
              "    <tr>\n",
              "      <th>2</th>\n",
              "      <td>tatis</td>\n",
              "      <td>fernando</td>\n",
              "      <td>-1</td>\n",
              "      <td>NaN</td>\n",
              "      <td>NaN</td>\n",
              "      <td>-1</td>\n",
              "      <td>NaN</td>\n",
              "      <td>NaN</td>\n",
              "    </tr>\n",
              "  </tbody>\n",
              "</table>\n",
              "</div>"
            ],
            "text/plain": [
              "  name_last name_first  ...  mlb_played_first mlb_played_last\n",
              "0     tatis   fernando  ...            2019.0          2021.0\n",
              "1     tatis   fernando  ...            1997.0          2010.0\n",
              "2     tatis   fernando  ...               NaN             NaN\n",
              "\n",
              "[3 rows x 8 columns]"
            ]
          },
          "metadata": {
            "tags": []
          },
          "execution_count": 140
        }
      ]
    },
    {
      "cell_type": "code",
      "metadata": {
        "colab": {
          "base_uri": "https://localhost:8080/"
        },
        "id": "wR80ZTn7piUN",
        "outputId": "47c07bd8-fa44-4373-e0d1-3c2a6ccab2c7"
      },
      "source": [
        "MLB_Players_MLB_ID_Dict[\"Marcus Stroman\"]"
      ],
      "execution_count": 102,
      "outputs": [
        {
          "output_type": "execute_result",
          "data": {
            "text/plain": [
              "573186"
            ]
          },
          "metadata": {
            "tags": []
          },
          "execution_count": 102
        }
      ]
    },
    {
      "cell_type": "code",
      "metadata": {
        "colab": {
          "base_uri": "https://localhost:8080/"
        },
        "id": "v7nroi35l0Gt",
        "outputId": "5c346fec-399e-4486-ab3f-b06d4d508497"
      },
      "source": [
        "MLB_Players_ESPN_ID_Dict[\"Marcus Stroman\"]"
      ],
      "execution_count": 94,
      "outputs": [
        {
          "output_type": "execute_result",
          "data": {
            "text/plain": [
              "32815"
            ]
          },
          "metadata": {
            "tags": []
          },
          "execution_count": 94
        }
      ]
    },
    {
      "cell_type": "code",
      "metadata": {
        "colab": {
          "base_uri": "https://localhost:8080/"
        },
        "id": "isMcpoleUrgV",
        "outputId": "60d552f1-df92-4cde-8256-4ee098590e62"
      },
      "source": [
        "#make SearchPlayerName dynamic on a loop and we're golden\n",
        "#Search for Player, add them and MLBID to dictionary\n",
        "SearchPlayerName = \"Madison Bumgarner\"\n",
        "PlayerIndexNum = 0\n",
        "\n",
        "Get_Key_MLBAM(SearchPlayerName,PlayerIndexNum)\n",
        "\n",
        "Add_To_MLBID_Dictionary(SearchPlayerName,PlayerIndexNum)\n",
        "\n",
        "MLB_Players_MLB_ID_Dict"
      ],
      "execution_count": 116,
      "outputs": [
        {
          "output_type": "stream",
          "text": [
            "Gathering player lookup table. This may take a moment.\n",
            "Gathering player lookup table. This may take a moment.\n"
          ],
          "name": "stdout"
        },
        {
          "output_type": "execute_result",
          "data": {
            "text/plain": [
              "{'JD Martinez': 502110, 'Madison Bumgarner': 518516}"
            ]
          },
          "metadata": {
            "tags": []
          },
          "execution_count": 116
        }
      ]
    },
    {
      "cell_type": "markdown",
      "metadata": {
        "id": "E44R6Hlxo2Cf"
      },
      "source": [
        "# Player Lookups"
      ]
    },
    {
      "cell_type": "code",
      "metadata": {
        "colab": {
          "base_uri": "https://localhost:8080/",
          "height": 147
        },
        "id": "z4yhFHQnfK0i",
        "outputId": "0430d00a-a6f1-4fd5-d873-340bd1aa0e1e"
      },
      "source": [
        "#PlayerName = \"Vladimir Guerrero\"\n",
        "#PlayerFirstName,PlayerLastName=PlayerName.split(\" \")\n",
        "#Playerdf = playerid_lookup(PlayerLastName,PlayerFirstName)\n",
        "\n",
        "PlayerLastName = \"Martinez\"\n",
        "Playerdf = playerid_lookup(PlayerLastName)\n",
        "Playerdf_current = Playerdf[(Playerdf[\"mlb_played_last\"] == 2021.0)]\n",
        "Playerdf_current\n",
        "#Playerdf_current.loc[[159]]\n",
        "#(data['AB'] > 10) & (data['G'] > 40) & data['Team'].isin(opponents)].sort_index()"
      ],
      "execution_count": 113,
      "outputs": [
        {
          "output_type": "stream",
          "text": [
            "Gathering player lookup table. This may take a moment.\n"
          ],
          "name": "stdout"
        },
        {
          "output_type": "execute_result",
          "data": {
            "text/html": [
              "<div>\n",
              "<style scoped>\n",
              "    .dataframe tbody tr th:only-of-type {\n",
              "        vertical-align: middle;\n",
              "    }\n",
              "\n",
              "    .dataframe tbody tr th {\n",
              "        vertical-align: top;\n",
              "    }\n",
              "\n",
              "    .dataframe thead th {\n",
              "        text-align: right;\n",
              "    }\n",
              "</style>\n",
              "<table border=\"1\" class=\"dataframe\">\n",
              "  <thead>\n",
              "    <tr style=\"text-align: right;\">\n",
              "      <th></th>\n",
              "      <th>name_last</th>\n",
              "      <th>name_first</th>\n",
              "      <th>key_mlbam</th>\n",
              "      <th>key_retro</th>\n",
              "      <th>key_bbref</th>\n",
              "      <th>key_fangraphs</th>\n",
              "      <th>mlb_played_first</th>\n",
              "      <th>mlb_played_last</th>\n",
              "    </tr>\n",
              "  </thead>\n",
              "  <tbody>\n",
              "    <tr>\n",
              "      <th>159</th>\n",
              "      <td>martinez</td>\n",
              "      <td>carlos</td>\n",
              "      <td>593372</td>\n",
              "      <td>martc006</td>\n",
              "      <td>martica04</td>\n",
              "      <td>11682</td>\n",
              "      <td>2013.0</td>\n",
              "      <td>2021.0</td>\n",
              "    </tr>\n",
              "    <tr>\n",
              "      <th>443</th>\n",
              "      <td>martinez</td>\n",
              "      <td>j. d.</td>\n",
              "      <td>502110</td>\n",
              "      <td>martj006</td>\n",
              "      <td>martijd02</td>\n",
              "      <td>6184</td>\n",
              "      <td>2011.0</td>\n",
              "      <td>2021.0</td>\n",
              "    </tr>\n",
              "  </tbody>\n",
              "</table>\n",
              "</div>"
            ],
            "text/plain": [
              "    name_last name_first  ...  mlb_played_first mlb_played_last\n",
              "159  martinez     carlos  ...            2013.0          2021.0\n",
              "443  martinez      j. d.  ...            2011.0          2021.0\n",
              "\n",
              "[2 rows x 8 columns]"
            ]
          },
          "metadata": {
            "tags": []
          },
          "execution_count": 113
        }
      ]
    },
    {
      "cell_type": "code",
      "metadata": {
        "id": "eh5z_3XklfmH"
      },
      "source": [
        "# Baseball_Scraper PlayerID Lookup\n",
        "# REDUNDANT BUT GOOD FOR TESTING AND REAPPROPRIATING\n",
        "\n",
        "PlayerName = \"J. D. Martinez\"\n",
        "ErrorMessage = \"Try a Different Name\"\n",
        "PlayerFirstName,PlayerLastName=PlayerName.split(\" \")\n",
        "\n",
        "#Fuck it; I'm lazy\n",
        "#PlayerFirstName = \"Wasted\"\n",
        "#PlayerLastName = \"Time\"\n",
        "\n",
        "\n",
        "#playerid_lookup(PlayerLastName,PlayerFirstName)\n",
        "\n",
        "#Creates Copy and Paste Line for Players\n",
        "#Visual Double Checks to Make Sure there's only one player\n",
        "PlayerIndex = 0\n",
        "#Actual Search Function\n",
        "#I'm tired of seeing error messages and freaking out\n",
        "try:\n",
        "  Player_df = playerid_lookup(PlayerLastName,PlayerFirstName)\n",
        "  print(Player_df)\n",
        "\n",
        "#How can I get this to return key_mlbam when there is only one result?\n",
        "#Just wanting the MLBKey_ID from this part\n",
        "  MLBKey_ID = Player_df.at[PlayerIndex,'key_mlbam']\n",
        "  print(PlayerFirstName+PlayerLastName,'=',MLBKey_ID)\n",
        "except:\n",
        "  print(ErrorMessage)\n",
        "\n",
        "#playerid_lookup(PlayerLastName)\n",
        "\n",
        "\n",
        "#The majority of names are a unique first and last name combo;\n",
        "# could save time in creating database to check vs. MLB_Key\n",
        "#If Multiple, user confirms -\n",
        "#could do it just for the first time and save that choice\n",
        "# I have it mostly automatic, which is nice I guess\n",
        "# Just change the name, then copy and paste the results above\n",
        "# Not sure if this will be necessary at any point in the future"
      ],
      "execution_count": null,
      "outputs": []
    },
    {
      "cell_type": "code",
      "metadata": {
        "id": "sIIV6PtTExZ7"
      },
      "source": [
        "# Baseball_Scraper PlayerID Lookup\n",
        "# Just Last Name - Started with J.D. Martinez\n",
        "# Easier to search a million Martinez's than to figure out what JD stands for\n",
        "# Turns out it's WAAAY easier to look up a player's page on MLB.com\n",
        "\n",
        "PlayerLastName = \"Guerrero\"\n",
        "\n",
        "\n",
        "#Data = playerid_lookup(PlayerLastName)\n",
        "#Player_Possible_Key_Options_df[Player_Possible_Key_Options_df(\"last_played_MLB\" = \"2021.0\")].sort_index()"
      ],
      "execution_count": null,
      "outputs": []
    },
    {
      "cell_type": "markdown",
      "metadata": {
        "id": "qBwhfqFko--Y"
      },
      "source": [
        "# Pitcher Data"
      ]
    },
    {
      "cell_type": "code",
      "metadata": {
        "id": "1312SeOZxW8D"
      },
      "source": [
        "Get_Probable_Pitchers(Today, Today)\n",
        "ProbablePitchers"
      ],
      "execution_count": null,
      "outputs": []
    },
    {
      "cell_type": "code",
      "metadata": {
        "id": "ksvkTnzcO6UQ"
      },
      "source": [
        "#Dynamic Varibales We'll Need to Run The Statcast for Pitchers\n",
        "#Need to convert dates to string for pitcher_stats\n",
        "NumDaysInPast = 5\n",
        "PitcherForStats = BradHand"
      ],
      "execution_count": null,
      "outputs": []
    },
    {
      "cell_type": "code",
      "metadata": {
        "id": "tdCyAQcgA6eo"
      },
      "source": [
        "# Statcast Pitch Data by Pitcher\n",
        "\n",
        "# Same Day results apparently not available\n",
        "StartDate = str(Today+timedelta(days=-NumDaysInPast))\n",
        "EndDate = str(Today)\n",
        "#print(StartDate)\n",
        "\n",
        "# formulatic testing - NLN\n",
        "# Pitches come in reverse order i.e. the most recent pitch is pitch 0\n",
        "#Pitcher_stats = statcast_pitcher('2021-07-24', '2021-07-25', DanielHudson)\n",
        "\n",
        "\n",
        "#Pitcher_stats = statcast_pitcher()\n",
        "\n",
        "#Inserting Dynamic Dates\n",
        "Pitcher_stats = statcast_pitcher(StartDate, EndDate, PitcherForStats)\n",
        "\n",
        "\n",
        "# Print Results\n",
        "Pitcher_stats\n",
        "\n",
        "#Limit Results to N pitches\n",
        "#Pitches = 20\n",
        "#Pitcher_stats.head(Pitches)\n"
      ],
      "execution_count": null,
      "outputs": []
    },
    {
      "cell_type": "code",
      "metadata": {
        "id": "0xBvBVMp_Qqs"
      },
      "source": [
        "# Statcast Pitch Data\n",
        "\n",
        ">>> \n",
        ">>> data = statcast(start_dt='2017-06-24', end_dt='2017-06-27')\n",
        ">>> data.head(5)"
      ],
      "execution_count": null,
      "outputs": []
    },
    {
      "cell_type": "markdown",
      "metadata": {
        "id": "04k9mkS5pCH2"
      },
      "source": [
        "# Batter Data"
      ]
    },
    {
      "cell_type": "code",
      "metadata": {
        "id": "_Me6xVW9-FjD"
      },
      "source": [
        "#Dynamic Varibales We'll Need to Run The Statcast\n",
        "Batter_Num_Days_In_Past = 2\n",
        "Batter_For_Stats = JDMartinez"
      ],
      "execution_count": null,
      "outputs": []
    },
    {
      "cell_type": "code",
      "metadata": {
        "id": "e5PBvWXv4A2G"
      },
      "source": [
        "# Statcast Batter Data Fetch\n",
        "# Copied from Pitcher Data\n",
        "\n",
        "StartDate = str(Today+timedelta(days=-Batter_Num_Days_In_Past))\n",
        "EndDate = str(Today)\n",
        "\n",
        "Batter_stats = statcast_batter(StartDate,EndDate,Batter_For_Stats)\n",
        "\n",
        "#Print The Results\n",
        "Batter_stats\n",
        "\n",
        "#Launch speed and launch angle give good estimates of where a batter is hitting the balls\n",
        "#Located after hit_distance\n",
        "#One of the columns: Estimated BA using Speedangle? Sounds promising\n",
        "#Located after fielder IDs and Release-Y\n"
      ],
      "execution_count": null,
      "outputs": []
    },
    {
      "cell_type": "code",
      "metadata": {
        "id": "YYLPPytM-RWz"
      },
      "source": [
        "#I want an easy way to pick and choose data\n",
        "#Maybe concentrate on 3 true outcomes? - Would bias toward players who hit homers\n",
        "Batter_Speed_Angle = Batter_stats[[\"description\", \"des\", \"estimated_ba_using_speedangle\", \"launch_speed\", \"launch_angle\",\"events\",\"pitch_name\",\"pitch_number\"]]\n",
        "Batter_Speed_Angle"
      ],
      "execution_count": null,
      "outputs": []
    },
    {
      "cell_type": "code",
      "metadata": {
        "id": "sWMheJ8K67ot"
      },
      "source": [
        "# ????\n",
        "\n",
        "player_id = Lookup.from_names(['Khris Davis']).iloc[0].fg_id\n",
        "fangraphs.Scraper.instances()\n",
        "fg = fangraphs.Scraper(\"Steamer (RoS)\")\n",
        "df = fg.scrape(player_id, scrape_as=fangraphs.ScrapeType.HITTER)\n",
        "df.columns"
      ],
      "execution_count": null,
      "outputs": []
    },
    {
      "cell_type": "code",
      "metadata": {
        "id": "dmYI8MoRDzs9"
      },
      "source": [
        "# Batter Scraper\n",
        "\n",
        "data = batting_stats(2021, qual=0)\n",
        "# data[data['Team'] == 'WSN'] \n",
        "data.head(10)"
      ],
      "execution_count": null,
      "outputs": []
    },
    {
      "cell_type": "markdown",
      "metadata": {
        "id": "ilnMv8FPyV_U"
      },
      "source": [
        "# Team Lookup"
      ]
    },
    {
      "cell_type": "code",
      "metadata": {
        "id": "dXinqWoLRoeZ"
      },
      "source": [
        "for i in ProbablePitchers['opponent'].unique():\n",
        "  print(i)"
      ],
      "execution_count": null,
      "outputs": []
    },
    {
      "cell_type": "code",
      "metadata": {
        "id": "sZiePsPO4BuU"
      },
      "source": [
        "tss = baseball_reference.TeamSummaryScraper()\n",
        "# tss\n",
        "# tss.scrape(2021)\n",
        "# try:\n",
        "#   tss.scrape(2021)\n",
        "# except Exception as e:\n",
        "#   print('test', e)\n",
        "# df.columns"
      ],
      "execution_count": null,
      "outputs": []
    },
    {
      "cell_type": "code",
      "metadata": {
        "id": "2XNRbhdUIQ_r"
      },
      "source": [
        "opponents = []\n",
        "for i in ProbablePitchers[\"opponent\"].unique():\n",
        "  if (i == \"KC\"):\n",
        "    opponents.append(\"KCR\")\n",
        "  elif (i == \"SD\"):\n",
        "    opponents.append(\"SDP\")\n",
        "  elif (i == \"SF\"):\n",
        "    opponents.append(\"SFG\")\n",
        "  elif (i == \"TB\"):\n",
        "    opponents.append(\"TBR\")\n",
        "  elif (i == \"WSH\"):\n",
        "    opponents.append(\"WSN\")\n",
        "  else:\n",
        "    opponents.append(i)\n",
        "\n",
        "print(opponents)\n",
        "data[(data['AB'] > 10) & (data['G'] > 40) & data['Team'].isin(opponents)].sort_index()\n",
        "# data[\"Team\"].unique()\n",
        "# data[data['Team'] == '- - -']"
      ],
      "execution_count": null,
      "outputs": []
    },
    {
      "cell_type": "code",
      "metadata": {
        "id": "U2y47m1FcEIG"
      },
      "source": [
        "test = requests.get('https://www.baseball-reference.com/previews/2021/KCA202107250.shtml')\n",
        "page = bs4.BeautifulSoup(test.content)\n",
        "\n",
        "table = page.find('table', id='batters_vs_pitchers_DET')"
      ],
      "execution_count": null,
      "outputs": []
    },
    {
      "cell_type": "markdown",
      "metadata": {
        "id": "Ste_ubemvx5E"
      },
      "source": [
        "# Depreciated"
      ]
    },
    {
      "cell_type": "code",
      "metadata": {
        "id": "XeJxqKttwDMG"
      },
      "source": [
        "# Add Probable Pitchers to ESPNID Dictionary\n",
        "def Probable_Pitcher_ESPNID_Update():  \n",
        "  ProbablePitchers = Get_Probable_Pitchers(Today, Today)\n",
        "  Names_and_ESPNIDs = ProbablePitchers[[\"Name\",\"espn_id\"]]\n",
        "  MLB_Players_ESPN_ID_Dict = dict(Names_and_ESPNIDs.values)\n",
        "  return"
      ],
      "execution_count": null,
      "outputs": []
    },
    {
      "cell_type": "code",
      "metadata": {
        "id": "_0Kt4Sl_ibs_"
      },
      "source": [
        "def Add_To_ESPNID_Dictionary(SearchPlayerName,PlayerIndexNum):\n",
        "  PlayerFirstName,PlayerLastName=SearchPlayerName.split(\" \")\n",
        "  Player_Name_Without_Spaces = PlayerFirstName + PlayerLastName\n",
        "  #Once I get the key, track it to their name\n",
        "  MLB_Players_ESPN_ID_Dict[Player_Name_Without_Spaces] = Get_Key_MLBAM(SearchPlayerName,PlayerIndexNum)\n",
        "  return\n",
        "#Need to take names from this dictionary (or probable pitchers dictionary)\n",
        "#Take names and grab MLB IDs, which has statcast data\n",
        "#Could eliminate duplicate names with \"Last Played 2021 in lookup\"\n",
        "#which I don't know how to do\n",
        "#Once I pare down a name to a single MLBID, use the add to Player Dictionary function"
      ],
      "execution_count": null,
      "outputs": []
    },
    {
      "cell_type": "code",
      "metadata": {
        "id": "FkWJC8uJzdn5"
      },
      "source": [
        "Probable_Pitcher_ESPNID_Update()\n",
        "\n",
        "ProbablePitchers = Get_Probable_Pitchers(Today,Today)\n",
        "Names_and_ESPNIDs = ProbablePitchers[[\"Name\",\"espn_id\"]]\n",
        "MLB_Players_ESPN_ID_Dict = dict(Names_and_ESPNIDs.values)\n",
        "\n",
        "MLB_Players_ESPN_ID_Dict\n",
        "\n",
        "#We don't actually need the ESPN IDs\n",
        "#ESPN doesn't have any data we want at the moment"
      ],
      "execution_count": null,
      "outputs": []
    },
    {
      "cell_type": "markdown",
      "metadata": {
        "id": "GSU0vM54v0kU"
      },
      "source": [
        ""
      ]
    }
  ]
}