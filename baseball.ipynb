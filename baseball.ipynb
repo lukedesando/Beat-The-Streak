{
  "nbformat": 4,
  "nbformat_minor": 2,
  "metadata": {
    "orig_nbformat": 4,
    "language_info": {
      "name": "python",
      "version": "3.8.8",
      "mimetype": "text/x-python",
      "codemirror_mode": {
        "name": "ipython",
        "version": 3
      },
      "pygments_lexer": "ipython3",
      "nbconvert_exporter": "python",
      "file_extension": ".py"
    },
    "kernelspec": {
      "name": "python3",
      "display_name": "Python 3.8.8 64-bit ('base': conda)"
    },
    "interpreter": {
      "hash": "b3ba2566441a7c06988d0923437866b63cedc61552a5af99d1f4fb67d367b25f"
    },
    "colab": {
      "name": "baseball.ipynb",
      "provenance": [],
      "collapsed_sections": [],
      "toc_visible": true
    }
  },
  "cells": [
    {
      "cell_type": "markdown",
      "source": [
        "# Prerequisities"
      ],
      "metadata": {
        "id": "0Cf-_GoBosna"
      }
    },
    {
      "cell_type": "code",
      "execution_count": null,
      "source": [
        "#Install Packages \r\n",
        "\r\n",
        "!pip install baseball_scraper\r\n",
        "!pip install baseball_id\r\n",
        "!pip install pybaseball"
      ],
      "outputs": [],
      "metadata": {
        "id": "O6CbcihE4BuR"
      }
    },
    {
      "cell_type": "code",
      "execution_count": 14,
      "source": [
        "# Import Packages\r\n",
        "\r\n",
        "# Baseball Scraper\r\n",
        "from baseball_scraper import baseball_reference\r\n",
        "from baseball_scraper import espn\r\n",
        "from baseball_scraper import fangraphs\r\n",
        "from baseball_scraper import playerid_lookup\r\n",
        "from baseball_scraper import statcast, statcast_pitcher, statcast_batter\r\n",
        "from baseball_scraper import team_batting, batting_stats\r\n",
        "from baseball_scraper import playerid_lookup\r\n",
        "\r\n",
        "from pybaseball import playerid_reverse_lookup\r\n",
        "\r\n",
        "#DateTime\r\n",
        "from datetime import datetime\r\n",
        "from datetime import date, timedelta\r\n",
        "\r\n",
        "\r\n",
        "# Baseball ID\r\n",
        "from baseball_id import Lookup\r\n",
        "\r\n",
        "#Misc\r\n",
        "import requests\r\n",
        "import io\r\n",
        "import bs4\r\n",
        "import pandas as pd"
      ],
      "outputs": [],
      "metadata": {
        "id": "apzOTO_-4BuT"
      }
    },
    {
      "cell_type": "code",
      "execution_count": 8,
      "source": [
        "# Important Global Variables\r\n",
        "\r\n",
        "Today = date.today()\r\n",
        "Tomorrow = date.today() + timedelta(days=1)\r\n",
        "Yesterday = date.today() + timedelta(days=-1)\r\n",
        "\r\n",
        "#MLB Players Dictionary, so it can loop and find values\r\n",
        "MLB_Players = {}\r\n",
        "#Let me try a different idea\r\n",
        "# MLB_Players_ID_Dataframe\r\n",
        "MLB_Players_ESPN_ID_Dict = {}\r\n",
        "MLB_Players_MLB_ID_Dict = {}\r\n",
        "Probable_Pitchers_and_Opponents_Dict = {}\r\n",
        "#Add J. D. Martinez as exception because fuck this guy and his two first names\r\n",
        "#If you're reading this, god damn you Julio Daniel's parents\r\n",
        "MLB_Players_MLB_ID_Dict[\"JD Martinez\"] = 502110"
      ],
      "outputs": [],
      "metadata": {
        "id": "b0iFMElofV2z"
      }
    },
    {
      "cell_type": "code",
      "execution_count": 3,
      "source": [
        "# Starting Pitcher Scraper\r\n",
        "def Get_Probable_Pitchers(StartDate, EndDate):\r\n",
        "  es = espn.ProbableStartersScraper (StartDate, EndDate)\r\n",
        "  ProbablePitchers = es.scrape()\r\n",
        "  return ProbablePitchers\r\n",
        "\r\n",
        "# ProbablePitchers is a dataframe\r\n",
        "#If we can run the names through the MLB_ID search as some sort of loop\r\n",
        "#Then we can create IDs instantly for all these players\r\n",
        "#if we can figure out a way to copy and paste that data,\r\n",
        "#then we've got the next sets of pitchers coming out of the gates\r\n",
        "\r\n",
        "def Probable_Pitcher_Opponents_Update():  \r\n",
        "  ProbablePitchers = Get_Probable_Pitchers(Today, Today)\r\n",
        "  Names_and_Opponents = ProbablePitchers[[\"Name\",\"opponent\"]]\r\n",
        "  Probable_Pitchers_and_Opponents_Dict = dict(Names_and_Opponents.values)\r\n",
        "  return\r\n",
        "#What if I don't need a dictionary?"
      ],
      "outputs": [],
      "metadata": {
        "id": "_RXIbnum4BuT"
      }
    },
    {
      "cell_type": "code",
      "execution_count": 9,
      "source": [
        "es = espn.ProbableStartersScraper (Today,Today)\r\n",
        "ProbablePitchers = es.scrape()\r\n",
        "ProbablePitchers"
      ],
      "outputs": [
        {
          "output_type": "execute_result",
          "data": {
            "text/plain": [
              "         Date                 Name  espn_id opponent\n",
              "0  2021-07-27      Tyler Alexander    40360      MIN\n",
              "1  2021-07-27          Kenta Maeda    34892      DET\n",
              "2  2021-07-27        Austin Gomber    34897      LAA\n",
              "3  2021-07-27          Jose Suarez    40981      COL\n",
              "4  2021-07-27          Julio Urias    33223       SF\n",
              "5  2021-07-27           Logan Webb    41216      LAD\n",
              "6  2021-07-27  Lance McCullers Jr.    32764      SEA\n",
              "7  2021-07-27         Chris Flexen    36067      HOU\n",
              "8  2021-07-27     James Kaprielian    34927       SD\n",
              "9  2021-07-27        Chris Paddack    35999      OAK"
            ],
            "text/html": [
              "<div>\n",
              "<style scoped>\n",
              "    .dataframe tbody tr th:only-of-type {\n",
              "        vertical-align: middle;\n",
              "    }\n",
              "\n",
              "    .dataframe tbody tr th {\n",
              "        vertical-align: top;\n",
              "    }\n",
              "\n",
              "    .dataframe thead th {\n",
              "        text-align: right;\n",
              "    }\n",
              "</style>\n",
              "<table border=\"1\" class=\"dataframe\">\n",
              "  <thead>\n",
              "    <tr style=\"text-align: right;\">\n",
              "      <th></th>\n",
              "      <th>Date</th>\n",
              "      <th>Name</th>\n",
              "      <th>espn_id</th>\n",
              "      <th>opponent</th>\n",
              "    </tr>\n",
              "  </thead>\n",
              "  <tbody>\n",
              "    <tr>\n",
              "      <th>0</th>\n",
              "      <td>2021-07-27</td>\n",
              "      <td>Tyler Alexander</td>\n",
              "      <td>40360</td>\n",
              "      <td>MIN</td>\n",
              "    </tr>\n",
              "    <tr>\n",
              "      <th>1</th>\n",
              "      <td>2021-07-27</td>\n",
              "      <td>Kenta Maeda</td>\n",
              "      <td>34892</td>\n",
              "      <td>DET</td>\n",
              "    </tr>\n",
              "    <tr>\n",
              "      <th>2</th>\n",
              "      <td>2021-07-27</td>\n",
              "      <td>Austin Gomber</td>\n",
              "      <td>34897</td>\n",
              "      <td>LAA</td>\n",
              "    </tr>\n",
              "    <tr>\n",
              "      <th>3</th>\n",
              "      <td>2021-07-27</td>\n",
              "      <td>Jose Suarez</td>\n",
              "      <td>40981</td>\n",
              "      <td>COL</td>\n",
              "    </tr>\n",
              "    <tr>\n",
              "      <th>4</th>\n",
              "      <td>2021-07-27</td>\n",
              "      <td>Julio Urias</td>\n",
              "      <td>33223</td>\n",
              "      <td>SF</td>\n",
              "    </tr>\n",
              "    <tr>\n",
              "      <th>5</th>\n",
              "      <td>2021-07-27</td>\n",
              "      <td>Logan Webb</td>\n",
              "      <td>41216</td>\n",
              "      <td>LAD</td>\n",
              "    </tr>\n",
              "    <tr>\n",
              "      <th>6</th>\n",
              "      <td>2021-07-27</td>\n",
              "      <td>Lance McCullers Jr.</td>\n",
              "      <td>32764</td>\n",
              "      <td>SEA</td>\n",
              "    </tr>\n",
              "    <tr>\n",
              "      <th>7</th>\n",
              "      <td>2021-07-27</td>\n",
              "      <td>Chris Flexen</td>\n",
              "      <td>36067</td>\n",
              "      <td>HOU</td>\n",
              "    </tr>\n",
              "    <tr>\n",
              "      <th>8</th>\n",
              "      <td>2021-07-27</td>\n",
              "      <td>James Kaprielian</td>\n",
              "      <td>34927</td>\n",
              "      <td>SD</td>\n",
              "    </tr>\n",
              "    <tr>\n",
              "      <th>9</th>\n",
              "      <td>2021-07-27</td>\n",
              "      <td>Chris Paddack</td>\n",
              "      <td>35999</td>\n",
              "      <td>OAK</td>\n",
              "    </tr>\n",
              "  </tbody>\n",
              "</table>\n",
              "</div>"
            ]
          },
          "metadata": {},
          "execution_count": 9
        }
      ],
      "metadata": {
        "id": "z6jPaQsNuhJE"
      }
    },
    {
      "cell_type": "code",
      "execution_count": null,
      "source": [
        "def Add_To_MLB_Players_ID_Dataframe(SearchPlayerName):\r\n",
        "  #PlayerFirstName,PlayerLastName=SearchPlayerName.split(\" \")\r\n",
        " \r\n",
        " #Handled at GET_KEY level\r\n",
        "  #Player_Name_Without_Spaces = PlayerFirstName + PlayerLastName\r\n",
        "  #Once I get the key, track it to their name\r\n",
        "  #MLB_Players[Player_Name_Without_Spaces] = Get_Key_MLBAM(SearchPlayerName,PlayerIndexNum)\r\n",
        "  \r\n",
        "  #PlayerIndexNum = 0\r\n",
        "  #If it's a dictionary, I might not need to save the name without a space\r\n",
        "  #MLB_Players_MLB_ID_Dict[SearchPlayerName] = Get_Key_MLBAM(SearchPlayerName,PlayerIndexNum)\r\n",
        "  #need way to double check against identical names\r\n",
        "\r\n",
        "  MLB_Players_MLB_ID_Dict[SearchPlayerName] = Get_Key_MLBAM(SearchPlayerName)\r\n",
        "  #identical to above line, but with indexNum removed\r\n",
        "  #Since the hope is that the first index will always be the player I'm looking for\r\n",
        "  return\r\n",
        "\r\n",
        "def Get_Key_MLBAM(PlayerName):\r\n",
        "  #Keeping the Index Flexible right here, just in case\r\n",
        "  PlayerIndexNum = 0\r\n",
        "  PlayerFirstName,PlayerLastName=PlayerName.split(\" \")\r\n",
        "  ErrorMessage = \"Try a Different Name\"\r\n",
        "  try:\r\n",
        "      # We'll have to check if there's a duplicate name somehow\r\n",
        "      Player_Dataframe = playerid_lookup(PlayerLastName,PlayerFirstName)\r\n",
        "      #Trying to get the first result to be a player who played in 2021\r\n",
        "      #Crashes the function for some reason, but it worked out of the function\r\n",
        "      Player_Dataframe = Player_Dataframe.sort_values(\"mlb_played_last\",na_position='last',ascending=False).reset_index(drop=True)\r\n",
        "      #The above line throws an exception for some reason\r\n",
        "      #Without that line, it works\r\n",
        "      MLBKey_ID = Player_Dataframe.at[PlayerIndexNum,'key_mlbam']\r\n",
        "  except:\r\n",
        "      print(ErrorMessage)\r\n",
        "      MLBKey_ID = \"-2\"\r\n",
        "  return MLBKey_ID"
      ],
      "outputs": [],
      "metadata": {
        "id": "iIsgLVORbkY2"
      }
    },
    {
      "cell_type": "code",
      "execution_count": 38,
      "source": [
        "PlayerName = \"Fernando Tatis\"\r\n",
        "#Add_To_MLBID_Dictionary(PlayerName)\r\n",
        "#Get_Key_MLBAM(PlayerName)\r\n",
        "PlayerFirstName,PlayerLastName=PlayerName.split(\" \")\r\n",
        "Get_Key_MLBAM(PlayerName)\r\n",
        "\r\n",
        "# Add_To_MLBID_Dictionary(PlayerName)\r\n",
        "# MLB_Players_MLB_ID_Dict"
      ],
      "outputs": [
        {
          "output_type": "stream",
          "name": "stdout",
          "text": [
            "Gathering player lookup table. This may take a moment.\n"
          ]
        },
        {
          "output_type": "execute_result",
          "data": {
            "text/plain": [
              "665487"
            ]
          },
          "metadata": {},
          "execution_count": 38
        }
      ],
      "metadata": {
        "colab": {
          "base_uri": "https://localhost:8080/"
        },
        "id": "jHF3qYgChj5f",
        "outputId": "dd275e0c-68a9-4130-95cb-bcfe1278da05"
      }
    },
    {
      "cell_type": "code",
      "execution_count": 9,
      "source": [
        "# Add to MLBID Dict Test\r\n",
        "\r\n",
        "PlayerName = \"Ohtani Shohei\"\r\n",
        "#Add_To_MLBID_Dictionary(PlayerName)\r\n",
        "#Get_Key_MLBAM(PlayerName)\r\n",
        "PlayerFirstName,PlayerLastName=PlayerName.split(\" \")\r\n",
        "Player_Dataframe = playerid_lookup(PlayerLastName,PlayerFirstName)\r\n",
        "Player_Dataframe = Player_Dataframe.sort_values(\"mlb_played_last\",na_position='last',ascending=False).reset_index(drop=True)\r\n",
        "# Player_Dataframe.to_excel(\"PlayerKeys.xlsx\")\r\n",
        "Player_Dataframe\r\n",
        "#MLB_Players_MLB_ID_Dict\r\n",
        "#We want return: 665487"
      ],
      "outputs": [
        {
          "output_type": "stream",
          "name": "stdout",
          "text": [
            "Gathering player lookup table. This may take a moment.\n"
          ]
        },
        {
          "output_type": "execute_result",
          "data": {
            "text/plain": [
              "Empty DataFrame\n",
              "Columns: [name_last, name_first, key_mlbam, key_retro, key_bbref, key_fangraphs, mlb_played_first, mlb_played_last]\n",
              "Index: []"
            ],
            "text/html": [
              "<div>\n",
              "<style scoped>\n",
              "    .dataframe tbody tr th:only-of-type {\n",
              "        vertical-align: middle;\n",
              "    }\n",
              "\n",
              "    .dataframe tbody tr th {\n",
              "        vertical-align: top;\n",
              "    }\n",
              "\n",
              "    .dataframe thead th {\n",
              "        text-align: right;\n",
              "    }\n",
              "</style>\n",
              "<table border=\"1\" class=\"dataframe\">\n",
              "  <thead>\n",
              "    <tr style=\"text-align: right;\">\n",
              "      <th></th>\n",
              "      <th>name_last</th>\n",
              "      <th>name_first</th>\n",
              "      <th>key_mlbam</th>\n",
              "      <th>key_retro</th>\n",
              "      <th>key_bbref</th>\n",
              "      <th>key_fangraphs</th>\n",
              "      <th>mlb_played_first</th>\n",
              "      <th>mlb_played_last</th>\n",
              "    </tr>\n",
              "  </thead>\n",
              "  <tbody>\n",
              "  </tbody>\n",
              "</table>\n",
              "</div>"
            ]
          },
          "metadata": {},
          "execution_count": 9
        }
      ],
      "metadata": {
        "colab": {
          "base_uri": "https://localhost:8080/",
          "height": 178
        },
        "id": "n1Q3r224_IF0",
        "outputId": "1dccb17b-4c80-40ae-99cd-57e7a71979ea"
      }
    },
    {
      "cell_type": "code",
      "execution_count": 39,
      "source": [
        "fg_ids = [826, 5417, 210, 1101]\r\n",
        "espn_ids = Get_Probable_Pitchers(Today, Today)\r\n",
        "\r\n",
        "# find their names and ids from other data sources\r\n",
        "data = playerid_reverse_lookup(list(espn_ids[\"espn_id\"]), key_type='fangraphs')\r\n",
        "data"
      ],
      "outputs": [
        {
          "output_type": "execute_result",
          "data": {
            "text/plain": [
              "Empty DataFrame\n",
              "Columns: [name_last, name_first, key_mlbam, key_retro, key_bbref, key_fangraphs, mlb_played_first, mlb_played_last]\n",
              "Index: []"
            ],
            "text/html": [
              "<div>\n",
              "<style scoped>\n",
              "    .dataframe tbody tr th:only-of-type {\n",
              "        vertical-align: middle;\n",
              "    }\n",
              "\n",
              "    .dataframe tbody tr th {\n",
              "        vertical-align: top;\n",
              "    }\n",
              "\n",
              "    .dataframe thead th {\n",
              "        text-align: right;\n",
              "    }\n",
              "</style>\n",
              "<table border=\"1\" class=\"dataframe\">\n",
              "  <thead>\n",
              "    <tr style=\"text-align: right;\">\n",
              "      <th></th>\n",
              "      <th>name_last</th>\n",
              "      <th>name_first</th>\n",
              "      <th>key_mlbam</th>\n",
              "      <th>key_retro</th>\n",
              "      <th>key_bbref</th>\n",
              "      <th>key_fangraphs</th>\n",
              "      <th>mlb_played_first</th>\n",
              "      <th>mlb_played_last</th>\n",
              "    </tr>\n",
              "  </thead>\n",
              "  <tbody>\n",
              "  </tbody>\n",
              "</table>\n",
              "</div>"
            ]
          },
          "metadata": {},
          "execution_count": 39
        }
      ],
      "metadata": {}
    },
    {
      "cell_type": "code",
      "execution_count": null,
      "source": [
        "# Player IDs key_mlbam\r\n",
        "# Really Need an Automated List - Fixing at the Moment\r\n",
        "\r\n",
        "#Pitchers\r\n",
        "PaoloEspino = 502179\r\n",
        "MaxScherzer = 453286\r\n",
        "JonLester = 452657\r\n",
        "BradHand = 543272\r\n",
        "ShaneMcClanahan = 663556\r\n",
        "MikeMinor = 501985\r\n",
        "DanielHudson = 543339\r\n",
        "ClaytonKershaw = 477132\r\n",
        "MadisonBumgarner = 518516\r\n",
        "MikeFoltynewicz = 592314\r\n",
        "BradKeller = 641745\r\n",
        "PatrickCorbin = 571578\r\n",
        "KyleHendricks = 543294\r\n",
        "JordanLyles = 543475\r\n",
        "DallasKeuchel = 572971\r\n",
        "ZachEflin = 621107\r\n",
        "ChrisFlexen = 623167\r\n",
        "JDMartinez = 502110\r\n",
        "RyanYarbrough = 642232\r\n",
        "ColeIrvin = 608344\r\n",
        "ZachDuke = 435043\r\n",
        "MartinPerez = 527048\r\n",
        "EdwinJackson = 429719\r\n",
        "\r\n",
        "#Hitters\r\n",
        "VladGuerrero = 665489\r\n",
        "FernandoTatis = 665487\r\n",
        "TreaTurner = 607208\r\n",
        "BryceHarper = 547180\r\n",
        "AaronJudge = 592450\r\n",
        "MikeTrout = 545361\r\n",
        "JuanSoto = 665742\r\n",
        "AdamFrazier = 624428\r\n",
        "NickCastellanos = 592206\r\n",
        "CedricMullins = 656775\r\n",
        "YuliGurriel = 493329\r\n",
        "JoseAltuve = 514888\r\n",
        "BryanReynolds = 668804\r\n",
        "JeanSegura = 516416\r\n",
        "XanderBogaerts = 593428\r\n",
        "DavidFletcher = 664058\r\n",
        "MichaelBrantley = 488726\r\n",
        "TimAnderson = 641313\r\n",
        "JustinTurner = 457759\r\n",
        "JesseWinker = 608385\r\n",
        "\r\n",
        "#Shohei Ohtani\r\n",
        "ShoheiOhtani = 660271"
      ],
      "outputs": [],
      "metadata": {
        "id": "JwfM1oi0tIDa"
      }
    },
    {
      "cell_type": "markdown",
      "source": [
        "# Player Dictionary Functions"
      ],
      "metadata": {
        "id": "TAYmOAw4ebb7"
      }
    },
    {
      "cell_type": "code",
      "execution_count": null,
      "source": [
        "MLB_Players_MLB_ID_Dict\r\n",
        "\r\n",
        "#playerid_lookup(PlayerLastName,PlayerFirstName)\r\n",
        "\r\n",
        "#MLB_Players_ESPN_ID_Dict\r\n",
        "\r\n",
        "#Wainwright: 5403 ESPN 425749 MLB - absolutely no correlation\r\n",
        "# Pretty sure nobody would ever have a reason to cross the two\r\n"
      ],
      "outputs": [],
      "metadata": {
        "colab": {
          "base_uri": "https://localhost:8080/"
        },
        "id": "4FswtzsoaX38",
        "outputId": "c8860a33-89a0-4e56-fc29-aeaeb82db8cb"
      }
    },
    {
      "cell_type": "code",
      "execution_count": 2,
      "source": [
        "Probable_Pitcher_Opponents_Update() #Doesn't work\r\n",
        "  \r\n",
        "ProbablePitchers = Get_Probable_Pitchers(Today, Today)\r\n",
        "Names_and_Opponents = ProbablePitchers[[\"Name\",\"opponent\"]]\r\n",
        "Names_and_Opponents"
      ],
      "outputs": [
        {
          "output_type": "error",
          "ename": "NameError",
          "evalue": "name 'Probable_Pitcher_Opponents_Update' is not defined",
          "traceback": [
            "\u001b[1;31m---------------------------------------------------------------------------\u001b[0m",
            "\u001b[1;31mNameError\u001b[0m                                 Traceback (most recent call last)",
            "\u001b[1;32m<ipython-input-2-c4cde4bb0b55>\u001b[0m in \u001b[0;36m<module>\u001b[1;34m\u001b[0m\n\u001b[1;32m----> 1\u001b[1;33m \u001b[0mProbable_Pitcher_Opponents_Update\u001b[0m\u001b[1;33m(\u001b[0m\u001b[1;33m)\u001b[0m \u001b[1;31m#Doesn't work\u001b[0m\u001b[1;33m\u001b[0m\u001b[1;33m\u001b[0m\u001b[0m\n\u001b[0m\u001b[0;32m      2\u001b[0m \u001b[1;33m\u001b[0m\u001b[0m\n\u001b[0;32m      3\u001b[0m \u001b[0mProbablePitchers\u001b[0m \u001b[1;33m=\u001b[0m \u001b[0mGet_Probable_Pitchers\u001b[0m\u001b[1;33m(\u001b[0m\u001b[0mToday\u001b[0m\u001b[1;33m,\u001b[0m \u001b[0mToday\u001b[0m\u001b[1;33m)\u001b[0m\u001b[1;33m\u001b[0m\u001b[1;33m\u001b[0m\u001b[0m\n\u001b[0;32m      4\u001b[0m \u001b[0mNames_and_Opponents\u001b[0m \u001b[1;33m=\u001b[0m \u001b[0mProbablePitchers\u001b[0m\u001b[1;33m[\u001b[0m\u001b[1;33m[\u001b[0m\u001b[1;34m\"Name\"\u001b[0m\u001b[1;33m,\u001b[0m\u001b[1;34m\"opponent\"\u001b[0m\u001b[1;33m]\u001b[0m\u001b[1;33m]\u001b[0m\u001b[1;33m\u001b[0m\u001b[1;33m\u001b[0m\u001b[0m\n\u001b[0;32m      5\u001b[0m \u001b[0mNames_and_Opponents\u001b[0m\u001b[1;33m\u001b[0m\u001b[1;33m\u001b[0m\u001b[0m\n",
            "\u001b[1;31mNameError\u001b[0m: name 'Probable_Pitcher_Opponents_Update' is not defined"
          ]
        }
      ],
      "metadata": {
        "colab": {
          "base_uri": "https://localhost:8080/",
          "height": 573
        },
        "id": "5TzO3ogDvRK9",
        "outputId": "4593616d-e268-4669-a4b1-2f2ba669a654"
      }
    },
    {
      "cell_type": "code",
      "execution_count": null,
      "source": [
        "#Trying to get the first result to be a player who played in 2021\r\n",
        "\r\n",
        "PlayerName = \"Fernando Tatis\"\r\n",
        "PlayerFirstName,PlayerLastName=PlayerName.split(\" \")\r\n",
        "\r\n",
        "Playerdf = playerid_lookup(PlayerLastName, PlayerFirstName)\r\n",
        "#Playerdf_current = Playerdf[(Playerdf[\"mlb_played_last\"] == 2021.0)]\r\n",
        "#Playerdf_current\r\n",
        "Playerdf = Playerdf.sort_values(\"mlb_played_last\",na_position='last',ascending=False).reset_index(drop=True)\r\n",
        "#Playerdf.reset_index(drop=True,inplace=True)\r\n",
        "Playerdf\r\n",
        "#Playerdf.reset_index(drop=True)"
      ],
      "outputs": [],
      "metadata": {
        "colab": {
          "base_uri": "https://localhost:8080/",
          "height": 178
        },
        "id": "CxCvARyI56pQ",
        "outputId": "81603929-76be-430d-a662-626071847781"
      }
    },
    {
      "cell_type": "code",
      "execution_count": 41,
      "source": [
        "MLB_Players_MLB_ID_Dict[\"Marcus Stroman\"]"
      ],
      "outputs": [
        {
          "output_type": "error",
          "ename": "KeyError",
          "evalue": "'Marcus Stroman'",
          "traceback": [
            "\u001b[1;31m---------------------------------------------------------------------------\u001b[0m",
            "\u001b[1;31mKeyError\u001b[0m                                  Traceback (most recent call last)",
            "\u001b[1;32m<ipython-input-41-82d78abf093e>\u001b[0m in \u001b[0;36m<module>\u001b[1;34m\u001b[0m\n\u001b[1;32m----> 1\u001b[1;33m \u001b[0mMLB_Players_MLB_ID_Dict\u001b[0m\u001b[1;33m[\u001b[0m\u001b[1;34m\"Marcus Stroman\"\u001b[0m\u001b[1;33m]\u001b[0m\u001b[1;33m\u001b[0m\u001b[1;33m\u001b[0m\u001b[0m\n\u001b[0m",
            "\u001b[1;31mKeyError\u001b[0m: 'Marcus Stroman'"
          ]
        }
      ],
      "metadata": {
        "colab": {
          "base_uri": "https://localhost:8080/"
        },
        "id": "wR80ZTn7piUN",
        "outputId": "47c07bd8-fa44-4373-e0d1-3c2a6ccab2c7"
      }
    },
    {
      "cell_type": "code",
      "execution_count": 40,
      "source": [
        "MLB_Players_ESPN_ID_Dict[\"Marcus Stroman\"]"
      ],
      "outputs": [
        {
          "output_type": "error",
          "ename": "KeyError",
          "evalue": "'Marcus Stroman'",
          "traceback": [
            "\u001b[1;31m---------------------------------------------------------------------------\u001b[0m",
            "\u001b[1;31mKeyError\u001b[0m                                  Traceback (most recent call last)",
            "\u001b[1;32m<ipython-input-40-c431b3387be1>\u001b[0m in \u001b[0;36m<module>\u001b[1;34m\u001b[0m\n\u001b[1;32m----> 1\u001b[1;33m \u001b[0mMLB_Players_ESPN_ID_Dict\u001b[0m\u001b[1;33m[\u001b[0m\u001b[1;34m\"Marcus Stroman\"\u001b[0m\u001b[1;33m]\u001b[0m\u001b[1;33m\u001b[0m\u001b[1;33m\u001b[0m\u001b[0m\n\u001b[0m",
            "\u001b[1;31mKeyError\u001b[0m: 'Marcus Stroman'"
          ]
        }
      ],
      "metadata": {
        "colab": {
          "base_uri": "https://localhost:8080/"
        },
        "id": "v7nroi35l0Gt",
        "outputId": "5c346fec-399e-4486-ab3f-b06d4d508497"
      }
    },
    {
      "cell_type": "code",
      "execution_count": null,
      "source": [
        "#make SearchPlayerName dynamic on a loop and we're golden\r\n",
        "#Search for Player, add them and MLBID to dictionary\r\n",
        "SearchPlayerName = \"Madison Bumgarner\"\r\n",
        "PlayerIndexNum = 0\r\n",
        "\r\n",
        "Get_Key_MLBAM(SearchPlayerName,PlayerIndexNum)\r\n",
        "\r\n",
        "Add_To_MLBID_Dictionary(SearchPlayerName,PlayerIndexNum)\r\n",
        "\r\n",
        "MLB_Players_MLB_ID_Dict"
      ],
      "outputs": [],
      "metadata": {
        "colab": {
          "base_uri": "https://localhost:8080/"
        },
        "id": "isMcpoleUrgV",
        "outputId": "60d552f1-df92-4cde-8256-4ee098590e62"
      }
    },
    {
      "cell_type": "markdown",
      "source": [
        "# Player Lookups"
      ],
      "metadata": {
        "id": "E44R6Hlxo2Cf"
      }
    },
    {
      "cell_type": "code",
      "execution_count": null,
      "source": [
        "#PlayerName = \"Vladimir Guerrero\"\r\n",
        "#PlayerFirstName,PlayerLastName=PlayerName.split(\" \")\r\n",
        "#Playerdf = playerid_lookup(PlayerLastName,PlayerFirstName)\r\n",
        "\r\n",
        "PlayerLastName = \"Martinez\"\r\n",
        "Playerdf = playerid_lookup(PlayerLastName)\r\n",
        "Playerdf_current = Playerdf[(Playerdf[\"mlb_played_last\"] == 2021.0)]\r\n",
        "Playerdf_current\r\n",
        "#Playerdf_current.loc[[159]]\r\n",
        "#(data['AB'] > 10) & (data['G'] > 40) & data['Team'].isin(opponents)].sort_index()"
      ],
      "outputs": [],
      "metadata": {
        "colab": {
          "base_uri": "https://localhost:8080/",
          "height": 147
        },
        "id": "z4yhFHQnfK0i",
        "outputId": "0430d00a-a6f1-4fd5-d873-340bd1aa0e1e"
      }
    },
    {
      "cell_type": "code",
      "execution_count": null,
      "source": [
        "# Baseball_Scraper PlayerID Lookup\r\n",
        "# REDUNDANT BUT GOOD FOR TESTING AND REAPPROPRIATING\r\n",
        "\r\n",
        "PlayerName = \"J. D. Martinez\"\r\n",
        "ErrorMessage = \"Try a Different Name\"\r\n",
        "PlayerFirstName,PlayerLastName=PlayerName.split(\" \")\r\n",
        "\r\n",
        "#Fuck it; I'm lazy\r\n",
        "#PlayerFirstName = \"Wasted\"\r\n",
        "#PlayerLastName = \"Time\"\r\n",
        "\r\n",
        "\r\n",
        "#playerid_lookup(PlayerLastName,PlayerFirstName)\r\n",
        "\r\n",
        "#Creates Copy and Paste Line for Players\r\n",
        "#Visual Double Checks to Make Sure there's only one player\r\n",
        "PlayerIndex = 0\r\n",
        "#Actual Search Function\r\n",
        "#I'm tired of seeing error messages and freaking out\r\n",
        "try:\r\n",
        "  Player_df = playerid_lookup(PlayerLastName,PlayerFirstName)\r\n",
        "  print(Player_df)\r\n",
        "\r\n",
        "#How can I get this to return key_mlbam when there is only one result?\r\n",
        "#Just wanting the MLBKey_ID from this part\r\n",
        "  MLBKey_ID = Player_df.at[PlayerIndex,'key_mlbam']\r\n",
        "  print(PlayerFirstName+PlayerLastName,'=',MLBKey_ID)\r\n",
        "except:\r\n",
        "  print(ErrorMessage)\r\n",
        "\r\n",
        "#playerid_lookup(PlayerLastName)\r\n",
        "\r\n",
        "\r\n",
        "#The majority of names are a unique first and last name combo;\r\n",
        "# could save time in creating database to check vs. MLB_Key\r\n",
        "#If Multiple, user confirms -\r\n",
        "#could do it just for the first time and save that choice\r\n",
        "# I have it mostly automatic, which is nice I guess\r\n",
        "# Just change the name, then copy and paste the results above\r\n",
        "# Not sure if this will be necessary at any point in the future"
      ],
      "outputs": [],
      "metadata": {
        "id": "eh5z_3XklfmH"
      }
    },
    {
      "cell_type": "code",
      "execution_count": null,
      "source": [
        "# Baseball_Scraper PlayerID Lookup\r\n",
        "# Just Last Name - Started with J.D. Martinez\r\n",
        "# Easier to search a million Martinez's than to figure out what JD stands for\r\n",
        "# Turns out it's WAAAY easier to look up a player's page on MLB.com\r\n",
        "\r\n",
        "PlayerLastName = \"Guerrero\"\r\n",
        "\r\n",
        "\r\n",
        "#Data = playerid_lookup(PlayerLastName)\r\n",
        "#Player_Possible_Key_Options_df[Player_Possible_Key_Options_df(\"last_played_MLB\" = \"2021.0\")].sort_index()"
      ],
      "outputs": [],
      "metadata": {
        "id": "sIIV6PtTExZ7"
      }
    },
    {
      "cell_type": "markdown",
      "source": [
        "# Pitcher Data"
      ],
      "metadata": {
        "id": "qBwhfqFko--Y"
      }
    },
    {
      "cell_type": "code",
      "execution_count": null,
      "source": [
        "Get_Probable_Pitchers(Today, Today)\r\n",
        "ProbablePitchers"
      ],
      "outputs": [],
      "metadata": {
        "id": "1312SeOZxW8D"
      }
    },
    {
      "cell_type": "code",
      "execution_count": null,
      "source": [
        "#Dynamic Varibales We'll Need to Run The Statcast for Pitchers\r\n",
        "#Need to convert dates to string for pitcher_stats\r\n",
        "NumDaysInPast = 5\r\n",
        "PitcherForStats = BradHand"
      ],
      "outputs": [],
      "metadata": {
        "id": "ksvkTnzcO6UQ"
      }
    },
    {
      "cell_type": "code",
      "execution_count": null,
      "source": [
        "# Statcast Pitch Data by Pitcher\r\n",
        "\r\n",
        "# Same Day results apparently not available\r\n",
        "StartDate = str(Today+timedelta(days=-NumDaysInPast))\r\n",
        "EndDate = str(Today)\r\n",
        "#print(StartDate)\r\n",
        "\r\n",
        "# formulatic testing - NLN\r\n",
        "# Pitches come in reverse order i.e. the most recent pitch is pitch 0\r\n",
        "#Pitcher_stats = statcast_pitcher('2021-07-24', '2021-07-25', DanielHudson)\r\n",
        "\r\n",
        "\r\n",
        "#Pitcher_stats = statcast_pitcher()\r\n",
        "\r\n",
        "#Inserting Dynamic Dates\r\n",
        "Pitcher_stats = statcast_pitcher(StartDate, EndDate, PitcherForStats)\r\n",
        "\r\n",
        "\r\n",
        "# Print Results\r\n",
        "Pitcher_stats\r\n",
        "\r\n",
        "#Limit Results to N pitches\r\n",
        "#Pitches = 20\r\n",
        "#Pitcher_stats.head(Pitches)\r\n"
      ],
      "outputs": [],
      "metadata": {
        "id": "tdCyAQcgA6eo"
      }
    },
    {
      "cell_type": "code",
      "execution_count": null,
      "source": [
        "# Statcast Pitch Data\r\n",
        "\r\n",
        ">>> \r\n",
        ">>> data = statcast(start_dt='2017-06-24', end_dt='2017-06-27')\r\n",
        ">>> data.head(5)"
      ],
      "outputs": [],
      "metadata": {
        "id": "0xBvBVMp_Qqs"
      }
    },
    {
      "cell_type": "markdown",
      "source": [
        "# Batter Data"
      ],
      "metadata": {
        "id": "04k9mkS5pCH2"
      }
    },
    {
      "cell_type": "code",
      "execution_count": null,
      "source": [
        "#Dynamic Varibales We'll Need to Run The Statcast\r\n",
        "Batter_Num_Days_In_Past = 2\r\n",
        "Batter_For_Stats = JDMartinez"
      ],
      "outputs": [],
      "metadata": {
        "id": "_Me6xVW9-FjD"
      }
    },
    {
      "cell_type": "code",
      "execution_count": null,
      "source": [
        "# Statcast Batter Data Fetch\r\n",
        "# Copied from Pitcher Data\r\n",
        "\r\n",
        "StartDate = str(Today+timedelta(days=-Batter_Num_Days_In_Past))\r\n",
        "EndDate = str(Today)\r\n",
        "\r\n",
        "Batter_stats = statcast_batter(StartDate,EndDate,Batter_For_Stats)\r\n",
        "\r\n",
        "#Print The Results\r\n",
        "Batter_stats\r\n",
        "\r\n",
        "#Launch speed and launch angle give good estimates of where a batter is hitting the balls\r\n",
        "#Located after hit_distance\r\n",
        "#One of the columns: Estimated BA using Speedangle? Sounds promising\r\n",
        "#Located after fielder IDs and Release-Y\r\n"
      ],
      "outputs": [],
      "metadata": {
        "id": "e5PBvWXv4A2G"
      }
    },
    {
      "cell_type": "code",
      "execution_count": null,
      "source": [
        "#I want an easy way to pick and choose data\r\n",
        "#Maybe concentrate on 3 true outcomes? - Would bias toward players who hit homers\r\n",
        "Batter_Speed_Angle = Batter_stats[[\"description\", \"des\", \"estimated_ba_using_speedangle\", \"launch_speed\", \"launch_angle\",\"events\",\"pitch_name\",\"pitch_number\"]]\r\n",
        "Batter_Speed_Angle"
      ],
      "outputs": [],
      "metadata": {
        "id": "YYLPPytM-RWz"
      }
    },
    {
      "cell_type": "code",
      "execution_count": null,
      "source": [
        "# ????\r\n",
        "\r\n",
        "player_id = Lookup.from_names(['Khris Davis']).iloc[0].fg_id\r\n",
        "fangraphs.Scraper.instances()\r\n",
        "fg = fangraphs.Scraper(\"Steamer (RoS)\")\r\n",
        "df = fg.scrape(player_id, scrape_as=fangraphs.ScrapeType.HITTER)\r\n",
        "df.columns"
      ],
      "outputs": [],
      "metadata": {
        "id": "sWMheJ8K67ot"
      }
    },
    {
      "cell_type": "code",
      "execution_count": null,
      "source": [
        "# Batter Scraper\r\n",
        "\r\n",
        "data = batting_stats(2010)\r\n",
        "# data[data['Team'] == 'WSN'] \r\n",
        "data"
      ],
      "outputs": [],
      "metadata": {
        "id": "dmYI8MoRDzs9"
      }
    },
    {
      "cell_type": "markdown",
      "source": [
        "# Team Lookup"
      ],
      "metadata": {
        "id": "ilnMv8FPyV_U"
      }
    },
    {
      "cell_type": "code",
      "execution_count": null,
      "source": [
        "for i in ProbablePitchers['opponent'].unique():\r\n",
        "  print(i)"
      ],
      "outputs": [],
      "metadata": {
        "id": "dXinqWoLRoeZ"
      }
    },
    {
      "cell_type": "code",
      "execution_count": null,
      "source": [
        "tss = baseball_reference.TeamSummaryScraper()\r\n",
        "# tss\r\n",
        "# tss.scrape(2021)\r\n",
        "# try:\r\n",
        "#   tss.scrape(2021)\r\n",
        "# except Exception as e:\r\n",
        "#   print('test', e)\r\n",
        "# df.columns"
      ],
      "outputs": [],
      "metadata": {
        "id": "sZiePsPO4BuU"
      }
    },
    {
      "cell_type": "code",
      "execution_count": null,
      "source": [
        "opponents = []\r\n",
        "for i in ProbablePitchers[\"opponent\"].unique():\r\n",
        "  if (i == \"KC\"):\r\n",
        "    opponents.append(\"KCR\")\r\n",
        "  elif (i == \"SD\"):\r\n",
        "    opponents.append(\"SDP\")\r\n",
        "  elif (i == \"SF\"):\r\n",
        "    opponents.append(\"SFG\")\r\n",
        "  elif (i == \"TB\"):\r\n",
        "    opponents.append(\"TBR\")\r\n",
        "  elif (i == \"WSH\"):\r\n",
        "    opponents.append(\"WSN\")\r\n",
        "  else:\r\n",
        "    opponents.append(i)\r\n",
        "\r\n",
        "print(opponents)\r\n",
        "data[(data['AB'] > 10) & (data['G'] > 40) & data['Team'].isin(opponents)].sort_index()\r\n",
        "# data[\"Team\"].unique()\r\n",
        "# data[data['Team'] == '- - -']"
      ],
      "outputs": [],
      "metadata": {
        "id": "2XNRbhdUIQ_r"
      }
    },
    {
      "cell_type": "code",
      "execution_count": 21,
      "source": [
        "batting_stats(2021)"
      ],
      "outputs": [
        {
          "output_type": "error",
          "ename": "IndexError",
          "evalue": "list index out of range",
          "traceback": [
            "\u001b[1;31m---------------------------------------------------------------------------\u001b[0m",
            "\u001b[1;31mIndexError\u001b[0m                                Traceback (most recent call last)",
            "\u001b[1;32m<ipython-input-21-53b6a2c5681c>\u001b[0m in \u001b[0;36m<module>\u001b[1;34m\u001b[0m\n\u001b[1;32m----> 1\u001b[1;33m \u001b[0mbatting_stats\u001b[0m\u001b[1;33m(\u001b[0m\u001b[1;36m2021\u001b[0m\u001b[1;33m)\u001b[0m\u001b[1;33m\u001b[0m\u001b[1;33m\u001b[0m\u001b[0m\n\u001b[0m",
            "\u001b[1;32mC:\\ProgramData\\Anaconda3\\lib\\site-packages\\baseball_scraper\\batting_leaders.py\u001b[0m in \u001b[0;36mbatting_stats\u001b[1;34m(start_season, end_season, league, qual, ind)\u001b[0m\n\u001b[0;32m     62\u001b[0m         \u001b[0mend_season\u001b[0m \u001b[1;33m=\u001b[0m \u001b[0mstart_season\u001b[0m\u001b[1;33m\u001b[0m\u001b[1;33m\u001b[0m\u001b[0m\n\u001b[0;32m     63\u001b[0m     \u001b[0msoup\u001b[0m \u001b[1;33m=\u001b[0m \u001b[0mget_soup\u001b[0m\u001b[1;33m(\u001b[0m\u001b[0mstart_season\u001b[0m\u001b[1;33m=\u001b[0m\u001b[0mstart_season\u001b[0m\u001b[1;33m,\u001b[0m \u001b[0mend_season\u001b[0m\u001b[1;33m=\u001b[0m\u001b[0mend_season\u001b[0m\u001b[1;33m,\u001b[0m \u001b[0mleague\u001b[0m\u001b[1;33m=\u001b[0m\u001b[0mleague\u001b[0m\u001b[1;33m,\u001b[0m \u001b[0mqual\u001b[0m\u001b[1;33m=\u001b[0m\u001b[0mqual\u001b[0m\u001b[1;33m,\u001b[0m \u001b[0mind\u001b[0m\u001b[1;33m=\u001b[0m\u001b[0mind\u001b[0m\u001b[1;33m)\u001b[0m\u001b[1;33m\u001b[0m\u001b[1;33m\u001b[0m\u001b[0m\n\u001b[1;32m---> 64\u001b[1;33m     \u001b[0mtable\u001b[0m \u001b[1;33m=\u001b[0m \u001b[0mget_table\u001b[0m\u001b[1;33m(\u001b[0m\u001b[0msoup\u001b[0m\u001b[1;33m,\u001b[0m \u001b[0mind\u001b[0m\u001b[1;33m)\u001b[0m\u001b[1;33m\u001b[0m\u001b[1;33m\u001b[0m\u001b[0m\n\u001b[0m\u001b[0;32m     65\u001b[0m     \u001b[1;32mreturn\u001b[0m \u001b[0mtable\u001b[0m\u001b[1;33m\u001b[0m\u001b[1;33m\u001b[0m\u001b[0m\n\u001b[0;32m     66\u001b[0m \u001b[1;33m\u001b[0m\u001b[0m\n",
            "\u001b[1;32mC:\\ProgramData\\Anaconda3\\lib\\site-packages\\baseball_scraper\\batting_leaders.py\u001b[0m in \u001b[0;36mget_table\u001b[1;34m(soup, ind)\u001b[0m\n\u001b[0;32m     21\u001b[0m     \u001b[1;31m# rename the second occurrence of 'FB%' to 'FB% (Pitch)'\u001b[0m\u001b[1;33m\u001b[0m\u001b[1;33m\u001b[0m\u001b[1;33m\u001b[0m\u001b[0m\n\u001b[0;32m     22\u001b[0m     \u001b[0mFBperc_indices\u001b[0m \u001b[1;33m=\u001b[0m \u001b[1;33m[\u001b[0m\u001b[0mi\u001b[0m \u001b[1;32mfor\u001b[0m \u001b[0mi\u001b[0m\u001b[1;33m,\u001b[0m\u001b[0mj\u001b[0m \u001b[1;32min\u001b[0m \u001b[0menumerate\u001b[0m\u001b[1;33m(\u001b[0m\u001b[0mheadings\u001b[0m\u001b[1;33m)\u001b[0m \u001b[1;32mif\u001b[0m \u001b[0mj\u001b[0m\u001b[1;33m==\u001b[0m\u001b[1;34m'FB%'\u001b[0m\u001b[1;33m]\u001b[0m\u001b[1;33m\u001b[0m\u001b[1;33m\u001b[0m\u001b[0m\n\u001b[1;32m---> 23\u001b[1;33m     \u001b[0mheadings\u001b[0m\u001b[1;33m[\u001b[0m\u001b[0mFBperc_indices\u001b[0m\u001b[1;33m[\u001b[0m\u001b[1;36m1\u001b[0m\u001b[1;33m]\u001b[0m\u001b[1;33m]\u001b[0m\u001b[1;33m=\u001b[0m\u001b[1;34m'FB% (Pitch)'\u001b[0m\u001b[1;33m\u001b[0m\u001b[1;33m\u001b[0m\u001b[0m\n\u001b[0m\u001b[0;32m     24\u001b[0m \u001b[1;33m\u001b[0m\u001b[0m\n\u001b[0;32m     25\u001b[0m \u001b[1;33m\u001b[0m\u001b[0m\n",
            "\u001b[1;31mIndexError\u001b[0m: list index out of range"
          ]
        }
      ],
      "metadata": {}
    },
    {
      "cell_type": "code",
      "execution_count": null,
      "source": [
        "test = requests.get('https://www.baseball-reference.com/previews/2021/KCA202107250.shtml')\r\n",
        "page = bs4.BeautifulSoup(test.content)\r\n",
        "\r\n",
        "table = page.find('table', id='batters_vs_pitchers_DET')"
      ],
      "outputs": [],
      "metadata": {
        "id": "U2y47m1FcEIG"
      }
    },
    {
      "cell_type": "markdown",
      "source": [
        "# Depreciated"
      ],
      "metadata": {
        "id": "Ste_ubemvx5E"
      }
    },
    {
      "cell_type": "code",
      "execution_count": null,
      "source": [
        "# Add Probable Pitchers to ESPNID Dictionary\r\n",
        "def Probable_Pitcher_ESPNID_Update():  \r\n",
        "  ProbablePitchers = Get_Probable_Pitchers(Today, Today)\r\n",
        "  Names_and_ESPNIDs = ProbablePitchers[[\"Name\",\"espn_id\"]]\r\n",
        "  MLB_Players_ESPN_ID_Dict = dict(Names_and_ESPNIDs.values)\r\n",
        "  return"
      ],
      "outputs": [],
      "metadata": {
        "id": "XeJxqKttwDMG"
      }
    },
    {
      "cell_type": "code",
      "execution_count": null,
      "source": [
        "def Add_To_ESPNID_Dictionary(SearchPlayerName,PlayerIndexNum):\r\n",
        "  PlayerFirstName,PlayerLastName=SearchPlayerName.split(\" \")\r\n",
        "  Player_Name_Without_Spaces = PlayerFirstName + PlayerLastName\r\n",
        "  #Once I get the key, track it to their name\r\n",
        "  MLB_Players_ESPN_ID_Dict[Player_Name_Without_Spaces] = Get_Key_MLBAM(SearchPlayerName,PlayerIndexNum)\r\n",
        "  return\r\n",
        "#Need to take names from this dictionary (or probable pitchers dictionary)\r\n",
        "#Take names and grab MLB IDs, which has statcast data\r\n",
        "#Could eliminate duplicate names with \"Last Played 2021 in lookup\"\r\n",
        "#which I don't know how to do\r\n",
        "#Once I pare down a name to a single MLBID, use the add to Player Dictionary function"
      ],
      "outputs": [],
      "metadata": {
        "id": "_0Kt4Sl_ibs_"
      }
    },
    {
      "cell_type": "code",
      "execution_count": null,
      "source": [
        "Probable_Pitcher_ESPNID_Update()\r\n",
        "\r\n",
        "ProbablePitchers = Get_Probable_Pitchers(Today,Today)\r\n",
        "Names_and_ESPNIDs = ProbablePitchers[[\"Name\",\"espn_id\"]]\r\n",
        "MLB_Players_ESPN_ID_Dict = dict(Names_and_ESPNIDs.values)\r\n",
        "\r\n",
        "MLB_Players_ESPN_ID_Dict\r\n",
        "\r\n",
        "#We don't actually need the ESPN IDs\r\n",
        "#ESPN doesn't have any data we want at the moment"
      ],
      "outputs": [],
      "metadata": {
        "id": "FkWJC8uJzdn5"
      }
    },
    {
      "cell_type": "markdown",
      "source": [],
      "metadata": {
        "id": "GSU0vM54v0kU"
      }
    }
  ]
}